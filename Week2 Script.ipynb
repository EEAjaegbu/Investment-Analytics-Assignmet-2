{
 "cells": [
  {
   "cell_type": "markdown",
   "metadata": {},
   "source": [
    "### Data Analtyics for Investment Decision Making\n",
    "\n",
    "##### Company: Data Glacier\n",
    "\n",
    "##### LISP01\n",
    "\n",
    "Goal: You have been provided with multiple data sets that contains information on 2 cab companies. Each file (data set) provided represents different aspects of the customer profile. XYZ is interested in using your actionable insights to help them identify the right company to make their investment.\n",
    "\n",
    "The outcome of your delivery will be a presentation to XYZ’s Executive team. This presentation will be judged based on the visuals provided, the quality of your analysis and the value of your recommendations and insights. \n",
    "\n",
    "\n",
    "- By: Ajaegbu Ebuka Emmanuel\n"
   ]
  },
  {
   "cell_type": "markdown",
   "metadata": {},
   "source": [
    "#### Load the Necessary Library"
   ]
  },
  {
   "cell_type": "code",
   "execution_count": 1,
   "metadata": {},
   "outputs": [],
   "source": [
    "import pandas as pd\n",
    "import numpy as np\n",
    "import matplotlib.pyplot as plt\n",
    "import datetime as dt\n",
    "plt.style.use(\"Solarize_Light2\")"
   ]
  },
  {
   "cell_type": "markdown",
   "metadata": {},
   "source": [
    "##### Load the Data"
   ]
  },
  {
   "cell_type": "code",
   "execution_count": 2,
   "metadata": {},
   "outputs": [],
   "source": [
    "CabData = pd.read_csv(\"Cab_Data.csv\")\n",
    "CustomerID = pd.read_csv(\"Customer_ID\")\n",
    "TransactionID = pd.read_csv(\"Transaction_ID\")\n",
    "City =pd.read_csv(\"City.csv\")"
   ]
  },
  {
   "cell_type": "markdown",
   "metadata": {},
   "source": [
    "# Data Preprocessing \n",
    "We try to understand all the varaiables in each datasets\n",
    "\n",
    "### 1) Understanding the Datasets\n",
    "\n",
    "#### a) Customer ID "
   ]
  },
  {
   "cell_type": "code",
   "execution_count": 3,
   "metadata": {},
   "outputs": [
    {
     "data": {
      "text/html": [
       "<div>\n",
       "<style scoped>\n",
       "    .dataframe tbody tr th:only-of-type {\n",
       "        vertical-align: middle;\n",
       "    }\n",
       "\n",
       "    .dataframe tbody tr th {\n",
       "        vertical-align: top;\n",
       "    }\n",
       "\n",
       "    .dataframe thead th {\n",
       "        text-align: right;\n",
       "    }\n",
       "</style>\n",
       "<table border=\"1\" class=\"dataframe\">\n",
       "  <thead>\n",
       "    <tr style=\"text-align: right;\">\n",
       "      <th></th>\n",
       "      <th>Unnamed: 0</th>\n",
       "      <th>Customer ID</th>\n",
       "      <th>Gender</th>\n",
       "      <th>Age</th>\n",
       "      <th>Income (USD/Month)</th>\n",
       "    </tr>\n",
       "  </thead>\n",
       "  <tbody>\n",
       "    <tr>\n",
       "      <th>0</th>\n",
       "      <td>0</td>\n",
       "      <td>29290</td>\n",
       "      <td>Male</td>\n",
       "      <td>28</td>\n",
       "      <td>10813</td>\n",
       "    </tr>\n",
       "    <tr>\n",
       "      <th>1</th>\n",
       "      <td>1</td>\n",
       "      <td>27703</td>\n",
       "      <td>Male</td>\n",
       "      <td>27</td>\n",
       "      <td>9237</td>\n",
       "    </tr>\n",
       "    <tr>\n",
       "      <th>2</th>\n",
       "      <td>2</td>\n",
       "      <td>28712</td>\n",
       "      <td>Male</td>\n",
       "      <td>53</td>\n",
       "      <td>11242</td>\n",
       "    </tr>\n",
       "  </tbody>\n",
       "</table>\n",
       "</div>"
      ],
      "text/plain": [
       "   Unnamed: 0  Customer ID Gender  Age  Income (USD/Month)\n",
       "0           0        29290   Male   28               10813\n",
       "1           1        27703   Male   27                9237\n",
       "2           2        28712   Male   53               11242"
      ]
     },
     "execution_count": 3,
     "metadata": {},
     "output_type": "execute_result"
    }
   ],
   "source": [
    "CustomerID.head(3)"
   ]
  },
  {
   "cell_type": "code",
   "execution_count": 4,
   "metadata": {},
   "outputs": [
    {
     "name": "stdout",
     "output_type": "stream",
     "text": [
      "<class 'pandas.core.frame.DataFrame'>\n",
      "RangeIndex: 49171 entries, 0 to 49170\n",
      "Data columns (total 5 columns):\n",
      " #   Column              Non-Null Count  Dtype \n",
      "---  ------              --------------  ----- \n",
      " 0   Unnamed: 0          49171 non-null  int64 \n",
      " 1   Customer ID         49171 non-null  int64 \n",
      " 2   Gender              49171 non-null  object\n",
      " 3   Age                 49171 non-null  int64 \n",
      " 4   Income (USD/Month)  49171 non-null  int64 \n",
      "dtypes: int64(4), object(1)\n",
      "memory usage: 1.9+ MB\n"
     ]
    }
   ],
   "source": [
    "CustomerID.info()"
   ]
  },
  {
   "cell_type": "code",
   "execution_count": 5,
   "metadata": {},
   "outputs": [
    {
     "data": {
      "text/plain": [
       "Unnamed: 0            0\n",
       "Customer ID           0\n",
       "Gender                0\n",
       "Age                   0\n",
       "Income (USD/Month)    0\n",
       "dtype: int64"
      ]
     },
     "execution_count": 5,
     "metadata": {},
     "output_type": "execute_result"
    }
   ],
   "source": [
    "#### Checking for Missing Values\n",
    "CustomerID.isnull().sum()"
   ]
  },
  {
   "cell_type": "markdown",
   "metadata": {},
   "source": [
    "There is no missing values in the Customer ID Data file"
   ]
  },
  {
   "cell_type": "markdown",
   "metadata": {},
   "source": [
    "#### b)  CabData Dataset"
   ]
  },
  {
   "cell_type": "code",
   "execution_count": 6,
   "metadata": {},
   "outputs": [
    {
     "data": {
      "text/html": [
       "<div>\n",
       "<style scoped>\n",
       "    .dataframe tbody tr th:only-of-type {\n",
       "        vertical-align: middle;\n",
       "    }\n",
       "\n",
       "    .dataframe tbody tr th {\n",
       "        vertical-align: top;\n",
       "    }\n",
       "\n",
       "    .dataframe thead th {\n",
       "        text-align: right;\n",
       "    }\n",
       "</style>\n",
       "<table border=\"1\" class=\"dataframe\">\n",
       "  <thead>\n",
       "    <tr style=\"text-align: right;\">\n",
       "      <th></th>\n",
       "      <th>Unnamed: 0</th>\n",
       "      <th>Transaction ID</th>\n",
       "      <th>Date of Travel</th>\n",
       "      <th>Company</th>\n",
       "      <th>City</th>\n",
       "      <th>KM Travelled</th>\n",
       "      <th>Price Charged</th>\n",
       "      <th>Cost of Trip</th>\n",
       "    </tr>\n",
       "  </thead>\n",
       "  <tbody>\n",
       "    <tr>\n",
       "      <th>0</th>\n",
       "      <td>0</td>\n",
       "      <td>10000011</td>\n",
       "      <td>1/8/2016</td>\n",
       "      <td>Pink Cab</td>\n",
       "      <td>ATLANTA GA</td>\n",
       "      <td>30.45</td>\n",
       "      <td>370.95</td>\n",
       "      <td>313.635</td>\n",
       "    </tr>\n",
       "    <tr>\n",
       "      <th>1</th>\n",
       "      <td>1</td>\n",
       "      <td>10000012</td>\n",
       "      <td>1/6/2016</td>\n",
       "      <td>Pink Cab</td>\n",
       "      <td>ATLANTA GA</td>\n",
       "      <td>28.62</td>\n",
       "      <td>358.52</td>\n",
       "      <td>334.854</td>\n",
       "    </tr>\n",
       "    <tr>\n",
       "      <th>2</th>\n",
       "      <td>2</td>\n",
       "      <td>10000013</td>\n",
       "      <td>1/2/2016</td>\n",
       "      <td>Pink Cab</td>\n",
       "      <td>ATLANTA GA</td>\n",
       "      <td>9.04</td>\n",
       "      <td>125.20</td>\n",
       "      <td>97.632</td>\n",
       "    </tr>\n",
       "  </tbody>\n",
       "</table>\n",
       "</div>"
      ],
      "text/plain": [
       "   Unnamed: 0  Transaction ID Date of Travel   Company        City  \\\n",
       "0           0        10000011       1/8/2016  Pink Cab  ATLANTA GA   \n",
       "1           1        10000012       1/6/2016  Pink Cab  ATLANTA GA   \n",
       "2           2        10000013       1/2/2016  Pink Cab  ATLANTA GA   \n",
       "\n",
       "   KM Travelled  Price Charged  Cost of Trip  \n",
       "0         30.45         370.95       313.635  \n",
       "1         28.62         358.52       334.854  \n",
       "2          9.04         125.20        97.632  "
      ]
     },
     "execution_count": 6,
     "metadata": {},
     "output_type": "execute_result"
    }
   ],
   "source": [
    "CabData.head(3)"
   ]
  },
  {
   "cell_type": "code",
   "execution_count": 7,
   "metadata": {},
   "outputs": [
    {
     "name": "stdout",
     "output_type": "stream",
     "text": [
      "<class 'pandas.core.frame.DataFrame'>\n",
      "RangeIndex: 359392 entries, 0 to 359391\n",
      "Data columns (total 8 columns):\n",
      " #   Column          Non-Null Count   Dtype  \n",
      "---  ------          --------------   -----  \n",
      " 0   Unnamed: 0      359392 non-null  int64  \n",
      " 1   Transaction ID  359392 non-null  int64  \n",
      " 2   Date of Travel  359392 non-null  object \n",
      " 3   Company         359392 non-null  object \n",
      " 4   City            359392 non-null  object \n",
      " 5   KM Travelled    359392 non-null  float64\n",
      " 6   Price Charged   359392 non-null  float64\n",
      " 7   Cost of Trip    359392 non-null  float64\n",
      "dtypes: float64(3), int64(2), object(3)\n",
      "memory usage: 21.9+ MB\n"
     ]
    }
   ],
   "source": [
    "CabData.info()"
   ]
  },
  {
   "cell_type": "markdown",
   "metadata": {},
   "source": [
    "###### Creating another varable Called Profit\n",
    "Prifit is the Differnce between Price Charged and Cost of trip"
   ]
  },
  {
   "cell_type": "code",
   "execution_count": 8,
   "metadata": {},
   "outputs": [],
   "source": [
    "# Profit\n",
    "CabData[\"Profit\"] =CabData[\"Price Charged\"]- CabData[\"Cost of Trip\"]"
   ]
  },
  {
   "cell_type": "code",
   "execution_count": 9,
   "metadata": {},
   "outputs": [
    {
     "data": {
      "text/html": [
       "<div>\n",
       "<style scoped>\n",
       "    .dataframe tbody tr th:only-of-type {\n",
       "        vertical-align: middle;\n",
       "    }\n",
       "\n",
       "    .dataframe tbody tr th {\n",
       "        vertical-align: top;\n",
       "    }\n",
       "\n",
       "    .dataframe thead th {\n",
       "        text-align: right;\n",
       "    }\n",
       "</style>\n",
       "<table border=\"1\" class=\"dataframe\">\n",
       "  <thead>\n",
       "    <tr style=\"text-align: right;\">\n",
       "      <th></th>\n",
       "      <th>Unnamed: 0</th>\n",
       "      <th>Transaction ID</th>\n",
       "      <th>Date of Travel</th>\n",
       "      <th>Company</th>\n",
       "      <th>City</th>\n",
       "      <th>KM Travelled</th>\n",
       "      <th>Price Charged</th>\n",
       "      <th>Cost of Trip</th>\n",
       "      <th>Profit</th>\n",
       "    </tr>\n",
       "  </thead>\n",
       "  <tbody>\n",
       "    <tr>\n",
       "      <th>0</th>\n",
       "      <td>0</td>\n",
       "      <td>10000011</td>\n",
       "      <td>2016-01-08</td>\n",
       "      <td>Pink Cab</td>\n",
       "      <td>ATLANTA GA</td>\n",
       "      <td>30.45</td>\n",
       "      <td>370.95</td>\n",
       "      <td>313.635</td>\n",
       "      <td>57.315</td>\n",
       "    </tr>\n",
       "    <tr>\n",
       "      <th>1</th>\n",
       "      <td>1</td>\n",
       "      <td>10000012</td>\n",
       "      <td>2016-01-06</td>\n",
       "      <td>Pink Cab</td>\n",
       "      <td>ATLANTA GA</td>\n",
       "      <td>28.62</td>\n",
       "      <td>358.52</td>\n",
       "      <td>334.854</td>\n",
       "      <td>23.666</td>\n",
       "    </tr>\n",
       "    <tr>\n",
       "      <th>2</th>\n",
       "      <td>2</td>\n",
       "      <td>10000013</td>\n",
       "      <td>2016-01-02</td>\n",
       "      <td>Pink Cab</td>\n",
       "      <td>ATLANTA GA</td>\n",
       "      <td>9.04</td>\n",
       "      <td>125.20</td>\n",
       "      <td>97.632</td>\n",
       "      <td>27.568</td>\n",
       "    </tr>\n",
       "  </tbody>\n",
       "</table>\n",
       "</div>"
      ],
      "text/plain": [
       "   Unnamed: 0  Transaction ID Date of Travel   Company        City  \\\n",
       "0           0        10000011     2016-01-08  Pink Cab  ATLANTA GA   \n",
       "1           1        10000012     2016-01-06  Pink Cab  ATLANTA GA   \n",
       "2           2        10000013     2016-01-02  Pink Cab  ATLANTA GA   \n",
       "\n",
       "   KM Travelled  Price Charged  Cost of Trip  Profit  \n",
       "0         30.45         370.95       313.635  57.315  \n",
       "1         28.62         358.52       334.854  23.666  \n",
       "2          9.04         125.20        97.632  27.568  "
      ]
     },
     "execution_count": 9,
     "metadata": {},
     "output_type": "execute_result"
    }
   ],
   "source": [
    "# Convert to a Date Object\n",
    "CabData[\"Date of Travel\" ]=pd.to_datetime(CabData[\"Date of Travel\"])\n",
    "CabData.head(3)"
   ]
  },
  {
   "cell_type": "markdown",
   "metadata": {},
   "source": [
    "There is no missing values in the Dataset. The Date of Travel variables was correctly formatted and a new varible \"Profit\" was created. The Profit per one Trip"
   ]
  },
  {
   "cell_type": "markdown",
   "metadata": {},
   "source": [
    "##### c) TransactionID Dataset"
   ]
  },
  {
   "cell_type": "code",
   "execution_count": 10,
   "metadata": {},
   "outputs": [
    {
     "data": {
      "text/html": [
       "<div>\n",
       "<style scoped>\n",
       "    .dataframe tbody tr th:only-of-type {\n",
       "        vertical-align: middle;\n",
       "    }\n",
       "\n",
       "    .dataframe tbody tr th {\n",
       "        vertical-align: top;\n",
       "    }\n",
       "\n",
       "    .dataframe thead th {\n",
       "        text-align: right;\n",
       "    }\n",
       "</style>\n",
       "<table border=\"1\" class=\"dataframe\">\n",
       "  <thead>\n",
       "    <tr style=\"text-align: right;\">\n",
       "      <th></th>\n",
       "      <th>Unnamed: 0</th>\n",
       "      <th>Transaction ID</th>\n",
       "      <th>Customer ID</th>\n",
       "      <th>Payment_Mode</th>\n",
       "    </tr>\n",
       "  </thead>\n",
       "  <tbody>\n",
       "    <tr>\n",
       "      <th>0</th>\n",
       "      <td>0</td>\n",
       "      <td>10000011</td>\n",
       "      <td>29290</td>\n",
       "      <td>Card</td>\n",
       "    </tr>\n",
       "    <tr>\n",
       "      <th>1</th>\n",
       "      <td>1</td>\n",
       "      <td>10000012</td>\n",
       "      <td>27703</td>\n",
       "      <td>Card</td>\n",
       "    </tr>\n",
       "    <tr>\n",
       "      <th>2</th>\n",
       "      <td>2</td>\n",
       "      <td>10000013</td>\n",
       "      <td>28712</td>\n",
       "      <td>Cash</td>\n",
       "    </tr>\n",
       "  </tbody>\n",
       "</table>\n",
       "</div>"
      ],
      "text/plain": [
       "   Unnamed: 0  Transaction ID  Customer ID Payment_Mode\n",
       "0           0        10000011        29290         Card\n",
       "1           1        10000012        27703         Card\n",
       "2           2        10000013        28712         Cash"
      ]
     },
     "execution_count": 10,
     "metadata": {},
     "output_type": "execute_result"
    }
   ],
   "source": [
    "TransactionID.head(3)"
   ]
  },
  {
   "cell_type": "code",
   "execution_count": 11,
   "metadata": {},
   "outputs": [
    {
     "name": "stdout",
     "output_type": "stream",
     "text": [
      "<class 'pandas.core.frame.DataFrame'>\n",
      "RangeIndex: 440098 entries, 0 to 440097\n",
      "Data columns (total 4 columns):\n",
      " #   Column          Non-Null Count   Dtype \n",
      "---  ------          --------------   ----- \n",
      " 0   Unnamed: 0      440098 non-null  int64 \n",
      " 1   Transaction ID  440098 non-null  int64 \n",
      " 2   Customer ID     440098 non-null  int64 \n",
      " 3   Payment_Mode    440098 non-null  object\n",
      "dtypes: int64(3), object(1)\n",
      "memory usage: 13.4+ MB\n"
     ]
    }
   ],
   "source": [
    "TransactionID.info()"
   ]
  },
  {
   "cell_type": "markdown",
   "metadata": {},
   "source": [
    "There is no missing value in the Data."
   ]
  },
  {
   "cell_type": "markdown",
   "metadata": {},
   "source": [
    "#### d) City Dataset"
   ]
  },
  {
   "cell_type": "code",
   "execution_count": 12,
   "metadata": {},
   "outputs": [
    {
     "data": {
      "text/html": [
       "<div>\n",
       "<style scoped>\n",
       "    .dataframe tbody tr th:only-of-type {\n",
       "        vertical-align: middle;\n",
       "    }\n",
       "\n",
       "    .dataframe tbody tr th {\n",
       "        vertical-align: top;\n",
       "    }\n",
       "\n",
       "    .dataframe thead th {\n",
       "        text-align: right;\n",
       "    }\n",
       "</style>\n",
       "<table border=\"1\" class=\"dataframe\">\n",
       "  <thead>\n",
       "    <tr style=\"text-align: right;\">\n",
       "      <th></th>\n",
       "      <th>Unnamed: 0</th>\n",
       "      <th>City</th>\n",
       "      <th>Population</th>\n",
       "      <th>Users</th>\n",
       "    </tr>\n",
       "  </thead>\n",
       "  <tbody>\n",
       "    <tr>\n",
       "      <th>0</th>\n",
       "      <td>0</td>\n",
       "      <td>NEW YORK NY</td>\n",
       "      <td>8405837</td>\n",
       "      <td>302149</td>\n",
       "    </tr>\n",
       "    <tr>\n",
       "      <th>1</th>\n",
       "      <td>1</td>\n",
       "      <td>CHICAGO IL</td>\n",
       "      <td>1955130</td>\n",
       "      <td>164468</td>\n",
       "    </tr>\n",
       "    <tr>\n",
       "      <th>2</th>\n",
       "      <td>2</td>\n",
       "      <td>LOS ANGELES CA</td>\n",
       "      <td>1595037</td>\n",
       "      <td>144132</td>\n",
       "    </tr>\n",
       "    <tr>\n",
       "      <th>3</th>\n",
       "      <td>3</td>\n",
       "      <td>MIAMI FL</td>\n",
       "      <td>1339155</td>\n",
       "      <td>17675</td>\n",
       "    </tr>\n",
       "    <tr>\n",
       "      <th>4</th>\n",
       "      <td>4</td>\n",
       "      <td>SILICON VALLEY</td>\n",
       "      <td>1177609</td>\n",
       "      <td>27247</td>\n",
       "    </tr>\n",
       "  </tbody>\n",
       "</table>\n",
       "</div>"
      ],
      "text/plain": [
       "   Unnamed: 0            City  Population   Users\n",
       "0           0     NEW YORK NY     8405837  302149\n",
       "1           1      CHICAGO IL     1955130  164468\n",
       "2           2  LOS ANGELES CA     1595037  144132\n",
       "3           3        MIAMI FL     1339155   17675\n",
       "4           4  SILICON VALLEY     1177609   27247"
      ]
     },
     "execution_count": 12,
     "metadata": {},
     "output_type": "execute_result"
    }
   ],
   "source": [
    "City.head(5)"
   ]
  },
  {
   "cell_type": "code",
   "execution_count": 13,
   "metadata": {},
   "outputs": [
    {
     "name": "stdout",
     "output_type": "stream",
     "text": [
      "<class 'pandas.core.frame.DataFrame'>\n",
      "RangeIndex: 20 entries, 0 to 19\n",
      "Data columns (total 4 columns):\n",
      " #   Column      Non-Null Count  Dtype \n",
      "---  ------      --------------  ----- \n",
      " 0   Unnamed: 0  20 non-null     int64 \n",
      " 1   City        20 non-null     object\n",
      " 2   Population  20 non-null     int64 \n",
      " 3   Users       20 non-null     int64 \n",
      "dtypes: int64(3), object(1)\n",
      "memory usage: 768.0+ bytes\n"
     ]
    }
   ],
   "source": [
    "City.info()"
   ]
  },
  {
   "cell_type": "markdown",
   "metadata": {},
   "source": [
    "No missing value was found in the data"
   ]
  },
  {
   "cell_type": "markdown",
   "metadata": {},
   "source": [
    "### 2) Merging The Four Dataset Together.\n",
    "\n",
    "CustomerID, CIty, CabData and TransactionID Dataset."
   ]
  },
  {
   "cell_type": "code",
   "execution_count": 14,
   "metadata": {},
   "outputs": [
    {
     "data": {
      "text/html": [
       "<div>\n",
       "<style scoped>\n",
       "    .dataframe tbody tr th:only-of-type {\n",
       "        vertical-align: middle;\n",
       "    }\n",
       "\n",
       "    .dataframe tbody tr th {\n",
       "        vertical-align: top;\n",
       "    }\n",
       "\n",
       "    .dataframe thead th {\n",
       "        text-align: right;\n",
       "    }\n",
       "</style>\n",
       "<table border=\"1\" class=\"dataframe\">\n",
       "  <thead>\n",
       "    <tr style=\"text-align: right;\">\n",
       "      <th></th>\n",
       "      <th>Unnamed: 0_x</th>\n",
       "      <th>Transaction ID</th>\n",
       "      <th>Date of Travel</th>\n",
       "      <th>Company</th>\n",
       "      <th>City</th>\n",
       "      <th>KM Travelled</th>\n",
       "      <th>Price Charged</th>\n",
       "      <th>Cost of Trip</th>\n",
       "      <th>Profit</th>\n",
       "      <th>Unnamed: 0_y</th>\n",
       "      <th>Customer ID</th>\n",
       "      <th>Payment_Mode</th>\n",
       "    </tr>\n",
       "  </thead>\n",
       "  <tbody>\n",
       "    <tr>\n",
       "      <th>0</th>\n",
       "      <td>0.0</td>\n",
       "      <td>10000011</td>\n",
       "      <td>2016-01-08</td>\n",
       "      <td>Pink Cab</td>\n",
       "      <td>ATLANTA GA</td>\n",
       "      <td>30.45</td>\n",
       "      <td>370.95</td>\n",
       "      <td>313.635</td>\n",
       "      <td>57.315</td>\n",
       "      <td>0</td>\n",
       "      <td>29290</td>\n",
       "      <td>Card</td>\n",
       "    </tr>\n",
       "    <tr>\n",
       "      <th>1</th>\n",
       "      <td>1.0</td>\n",
       "      <td>10000012</td>\n",
       "      <td>2016-01-06</td>\n",
       "      <td>Pink Cab</td>\n",
       "      <td>ATLANTA GA</td>\n",
       "      <td>28.62</td>\n",
       "      <td>358.52</td>\n",
       "      <td>334.854</td>\n",
       "      <td>23.666</td>\n",
       "      <td>1</td>\n",
       "      <td>27703</td>\n",
       "      <td>Card</td>\n",
       "    </tr>\n",
       "    <tr>\n",
       "      <th>2</th>\n",
       "      <td>2.0</td>\n",
       "      <td>10000013</td>\n",
       "      <td>2016-01-02</td>\n",
       "      <td>Pink Cab</td>\n",
       "      <td>ATLANTA GA</td>\n",
       "      <td>9.04</td>\n",
       "      <td>125.20</td>\n",
       "      <td>97.632</td>\n",
       "      <td>27.568</td>\n",
       "      <td>2</td>\n",
       "      <td>28712</td>\n",
       "      <td>Cash</td>\n",
       "    </tr>\n",
       "  </tbody>\n",
       "</table>\n",
       "</div>"
      ],
      "text/plain": [
       "   Unnamed: 0_x  Transaction ID Date of Travel   Company        City  \\\n",
       "0           0.0        10000011     2016-01-08  Pink Cab  ATLANTA GA   \n",
       "1           1.0        10000012     2016-01-06  Pink Cab  ATLANTA GA   \n",
       "2           2.0        10000013     2016-01-02  Pink Cab  ATLANTA GA   \n",
       "\n",
       "   KM Travelled  Price Charged  Cost of Trip  Profit  Unnamed: 0_y  \\\n",
       "0         30.45         370.95       313.635  57.315             0   \n",
       "1         28.62         358.52       334.854  23.666             1   \n",
       "2          9.04         125.20        97.632  27.568             2   \n",
       "\n",
       "   Customer ID Payment_Mode  \n",
       "0        29290         Card  \n",
       "1        27703         Card  \n",
       "2        28712         Cash  "
      ]
     },
     "execution_count": 14,
     "metadata": {},
     "output_type": "execute_result"
    }
   ],
   "source": [
    "# Merging the CabData and TransactionID Together\n",
    "data =pd.merge(left= CabData,right= TransactionID,how=\"outer\",on=[\"Transaction ID\"])\n",
    "data.head(3)"
   ]
  },
  {
   "cell_type": "code",
   "execution_count": 15,
   "metadata": {},
   "outputs": [
    {
     "data": {
      "text/html": [
       "<div>\n",
       "<style scoped>\n",
       "    .dataframe tbody tr th:only-of-type {\n",
       "        vertical-align: middle;\n",
       "    }\n",
       "\n",
       "    .dataframe tbody tr th {\n",
       "        vertical-align: top;\n",
       "    }\n",
       "\n",
       "    .dataframe thead th {\n",
       "        text-align: right;\n",
       "    }\n",
       "</style>\n",
       "<table border=\"1\" class=\"dataframe\">\n",
       "  <thead>\n",
       "    <tr style=\"text-align: right;\">\n",
       "      <th></th>\n",
       "      <th>Unnamed: 0_x</th>\n",
       "      <th>Transaction ID</th>\n",
       "      <th>Date of Travel</th>\n",
       "      <th>Company</th>\n",
       "      <th>City</th>\n",
       "      <th>KM Travelled</th>\n",
       "      <th>Price Charged</th>\n",
       "      <th>Cost of Trip</th>\n",
       "      <th>Profit</th>\n",
       "      <th>Unnamed: 0_y</th>\n",
       "      <th>Customer ID</th>\n",
       "      <th>Payment_Mode</th>\n",
       "      <th>Unnamed: 0</th>\n",
       "      <th>Gender</th>\n",
       "      <th>Age</th>\n",
       "      <th>Income (USD/Month)</th>\n",
       "    </tr>\n",
       "  </thead>\n",
       "  <tbody>\n",
       "    <tr>\n",
       "      <th>0</th>\n",
       "      <td>0.0</td>\n",
       "      <td>10000011</td>\n",
       "      <td>2016-01-08</td>\n",
       "      <td>Pink Cab</td>\n",
       "      <td>ATLANTA GA</td>\n",
       "      <td>30.45</td>\n",
       "      <td>370.95</td>\n",
       "      <td>313.6350</td>\n",
       "      <td>57.3150</td>\n",
       "      <td>0</td>\n",
       "      <td>29290</td>\n",
       "      <td>Card</td>\n",
       "      <td>0</td>\n",
       "      <td>Male</td>\n",
       "      <td>28</td>\n",
       "      <td>10813</td>\n",
       "    </tr>\n",
       "    <tr>\n",
       "      <th>1</th>\n",
       "      <td>285625.0</td>\n",
       "      <td>10351127</td>\n",
       "      <td>2018-07-21</td>\n",
       "      <td>Yellow Cab</td>\n",
       "      <td>ATLANTA GA</td>\n",
       "      <td>26.19</td>\n",
       "      <td>598.70</td>\n",
       "      <td>317.4228</td>\n",
       "      <td>281.2772</td>\n",
       "      <td>351116</td>\n",
       "      <td>29290</td>\n",
       "      <td>Cash</td>\n",
       "      <td>0</td>\n",
       "      <td>Male</td>\n",
       "      <td>28</td>\n",
       "      <td>10813</td>\n",
       "    </tr>\n",
       "    <tr>\n",
       "      <th>2</th>\n",
       "      <td>336890.0</td>\n",
       "      <td>10412921</td>\n",
       "      <td>2018-11-23</td>\n",
       "      <td>Yellow Cab</td>\n",
       "      <td>ATLANTA GA</td>\n",
       "      <td>42.55</td>\n",
       "      <td>792.05</td>\n",
       "      <td>597.4020</td>\n",
       "      <td>194.6480</td>\n",
       "      <td>412910</td>\n",
       "      <td>29290</td>\n",
       "      <td>Card</td>\n",
       "      <td>0</td>\n",
       "      <td>Male</td>\n",
       "      <td>28</td>\n",
       "      <td>10813</td>\n",
       "    </tr>\n",
       "  </tbody>\n",
       "</table>\n",
       "</div>"
      ],
      "text/plain": [
       "   Unnamed: 0_x  Transaction ID Date of Travel     Company        City  \\\n",
       "0           0.0        10000011     2016-01-08    Pink Cab  ATLANTA GA   \n",
       "1      285625.0        10351127     2018-07-21  Yellow Cab  ATLANTA GA   \n",
       "2      336890.0        10412921     2018-11-23  Yellow Cab  ATLANTA GA   \n",
       "\n",
       "   KM Travelled  Price Charged  Cost of Trip    Profit  Unnamed: 0_y  \\\n",
       "0         30.45         370.95      313.6350   57.3150             0   \n",
       "1         26.19         598.70      317.4228  281.2772        351116   \n",
       "2         42.55         792.05      597.4020  194.6480        412910   \n",
       "\n",
       "   Customer ID Payment_Mode  Unnamed: 0 Gender  Age  Income (USD/Month)  \n",
       "0        29290         Card           0   Male   28               10813  \n",
       "1        29290         Cash           0   Male   28               10813  \n",
       "2        29290         Card           0   Male   28               10813  "
      ]
     },
     "execution_count": 15,
     "metadata": {},
     "output_type": "execute_result"
    }
   ],
   "source": [
    "# Merge with the CustomerID data\n",
    "New_data =pd.merge(left= data,right= CustomerID,how=\"outer\",on=[\"Customer ID\"])\n",
    "New_data.head(3)"
   ]
  },
  {
   "cell_type": "code",
   "execution_count": 16,
   "metadata": {},
   "outputs": [
    {
     "data": {
      "text/html": [
       "<div>\n",
       "<style scoped>\n",
       "    .dataframe tbody tr th:only-of-type {\n",
       "        vertical-align: middle;\n",
       "    }\n",
       "\n",
       "    .dataframe tbody tr th {\n",
       "        vertical-align: top;\n",
       "    }\n",
       "\n",
       "    .dataframe thead th {\n",
       "        text-align: right;\n",
       "    }\n",
       "</style>\n",
       "<table border=\"1\" class=\"dataframe\">\n",
       "  <thead>\n",
       "    <tr style=\"text-align: right;\">\n",
       "      <th></th>\n",
       "      <th>Unnamed: 0_x</th>\n",
       "      <th>Transaction ID</th>\n",
       "      <th>Date of Travel</th>\n",
       "      <th>Company</th>\n",
       "      <th>City</th>\n",
       "      <th>KM Travelled</th>\n",
       "      <th>Price Charged</th>\n",
       "      <th>Cost of Trip</th>\n",
       "      <th>Profit</th>\n",
       "      <th>Unnamed: 0_y</th>\n",
       "      <th>Customer ID</th>\n",
       "      <th>Payment_Mode</th>\n",
       "      <th>Unnamed: 0_x</th>\n",
       "      <th>Gender</th>\n",
       "      <th>Age</th>\n",
       "      <th>Income (USD/Month)</th>\n",
       "      <th>Unnamed: 0_y</th>\n",
       "      <th>Population</th>\n",
       "      <th>Users</th>\n",
       "    </tr>\n",
       "  </thead>\n",
       "  <tbody>\n",
       "    <tr>\n",
       "      <th>0</th>\n",
       "      <td>0.0</td>\n",
       "      <td>10000011.0</td>\n",
       "      <td>2016-01-08</td>\n",
       "      <td>Pink Cab</td>\n",
       "      <td>ATLANTA GA</td>\n",
       "      <td>30.45</td>\n",
       "      <td>370.95</td>\n",
       "      <td>313.6350</td>\n",
       "      <td>57.3150</td>\n",
       "      <td>0.0</td>\n",
       "      <td>29290.0</td>\n",
       "      <td>Card</td>\n",
       "      <td>0.0</td>\n",
       "      <td>Male</td>\n",
       "      <td>28.0</td>\n",
       "      <td>10813.0</td>\n",
       "      <td>9.0</td>\n",
       "      <td>814885.0</td>\n",
       "      <td>24701.0</td>\n",
       "    </tr>\n",
       "    <tr>\n",
       "      <th>1</th>\n",
       "      <td>285625.0</td>\n",
       "      <td>10351127.0</td>\n",
       "      <td>2018-07-21</td>\n",
       "      <td>Yellow Cab</td>\n",
       "      <td>ATLANTA GA</td>\n",
       "      <td>26.19</td>\n",
       "      <td>598.70</td>\n",
       "      <td>317.4228</td>\n",
       "      <td>281.2772</td>\n",
       "      <td>351116.0</td>\n",
       "      <td>29290.0</td>\n",
       "      <td>Cash</td>\n",
       "      <td>0.0</td>\n",
       "      <td>Male</td>\n",
       "      <td>28.0</td>\n",
       "      <td>10813.0</td>\n",
       "      <td>9.0</td>\n",
       "      <td>814885.0</td>\n",
       "      <td>24701.0</td>\n",
       "    </tr>\n",
       "    <tr>\n",
       "      <th>2</th>\n",
       "      <td>336890.0</td>\n",
       "      <td>10412921.0</td>\n",
       "      <td>2018-11-23</td>\n",
       "      <td>Yellow Cab</td>\n",
       "      <td>ATLANTA GA</td>\n",
       "      <td>42.55</td>\n",
       "      <td>792.05</td>\n",
       "      <td>597.4020</td>\n",
       "      <td>194.6480</td>\n",
       "      <td>412910.0</td>\n",
       "      <td>29290.0</td>\n",
       "      <td>Card</td>\n",
       "      <td>0.0</td>\n",
       "      <td>Male</td>\n",
       "      <td>28.0</td>\n",
       "      <td>10813.0</td>\n",
       "      <td>9.0</td>\n",
       "      <td>814885.0</td>\n",
       "      <td>24701.0</td>\n",
       "    </tr>\n",
       "  </tbody>\n",
       "</table>\n",
       "</div>"
      ],
      "text/plain": [
       "   Unnamed: 0_x  Transaction ID Date of Travel     Company        City  \\\n",
       "0           0.0      10000011.0     2016-01-08    Pink Cab  ATLANTA GA   \n",
       "1      285625.0      10351127.0     2018-07-21  Yellow Cab  ATLANTA GA   \n",
       "2      336890.0      10412921.0     2018-11-23  Yellow Cab  ATLANTA GA   \n",
       "\n",
       "   KM Travelled  Price Charged  Cost of Trip    Profit  Unnamed: 0_y  \\\n",
       "0         30.45         370.95      313.6350   57.3150           0.0   \n",
       "1         26.19         598.70      317.4228  281.2772      351116.0   \n",
       "2         42.55         792.05      597.4020  194.6480      412910.0   \n",
       "\n",
       "   Customer ID Payment_Mode  Unnamed: 0_x Gender   Age  Income (USD/Month)  \\\n",
       "0      29290.0         Card           0.0   Male  28.0             10813.0   \n",
       "1      29290.0         Cash           0.0   Male  28.0             10813.0   \n",
       "2      29290.0         Card           0.0   Male  28.0             10813.0   \n",
       "\n",
       "   Unnamed: 0_y  Population    Users  \n",
       "0           9.0    814885.0  24701.0  \n",
       "1           9.0    814885.0  24701.0  \n",
       "2           9.0    814885.0  24701.0  "
      ]
     },
     "execution_count": 16,
     "metadata": {},
     "output_type": "execute_result"
    }
   ],
   "source": [
    "###  Merge with the City Dataset\n",
    "New_data= pd.merge(left=New_data,right=City,on=\"City\",how=\"outer\")\n",
    "New_data.head(3)"
   ]
  },
  {
   "cell_type": "code",
   "execution_count": 17,
   "metadata": {},
   "outputs": [
    {
     "name": "stdout",
     "output_type": "stream",
     "text": [
      "<class 'pandas.core.frame.DataFrame'>\n",
      "Int64Index: 440099 entries, 0 to 440098\n",
      "Data columns (total 19 columns):\n",
      " #   Column              Non-Null Count   Dtype         \n",
      "---  ------              --------------   -----         \n",
      " 0   Unnamed: 0_x        359392 non-null  float64       \n",
      " 1   Transaction ID      440098 non-null  float64       \n",
      " 2   Date of Travel      359392 non-null  datetime64[ns]\n",
      " 3   Company             359392 non-null  object        \n",
      " 4   City                359393 non-null  object        \n",
      " 5   KM Travelled        359392 non-null  float64       \n",
      " 6   Price Charged       359392 non-null  float64       \n",
      " 7   Cost of Trip        359392 non-null  float64       \n",
      " 8   Profit              359392 non-null  float64       \n",
      " 9   Unnamed: 0_y        440098 non-null  float64       \n",
      " 10  Customer ID         440098 non-null  float64       \n",
      " 11  Payment_Mode        440098 non-null  object        \n",
      " 12  Unnamed: 0_x        440098 non-null  float64       \n",
      " 13  Gender              440098 non-null  object        \n",
      " 14  Age                 440098 non-null  float64       \n",
      " 15  Income (USD/Month)  440098 non-null  float64       \n",
      " 16  Unnamed: 0_y        359393 non-null  float64       \n",
      " 17  Population          359393 non-null  float64       \n",
      " 18  Users               359393 non-null  float64       \n",
      "dtypes: datetime64[ns](1), float64(14), object(4)\n",
      "memory usage: 67.2+ MB\n"
     ]
    }
   ],
   "source": [
    "### Basic Information\n",
    "New_data.info()"
   ]
  },
  {
   "cell_type": "markdown",
   "metadata": {},
   "source": [
    "There are missing values in the datasets and some irrelevant datasets."
   ]
  },
  {
   "cell_type": "markdown",
   "metadata": {},
   "source": [
    "### 3) Dropping Missing Values and irrelevant Columns"
   ]
  },
  {
   "cell_type": "code",
   "execution_count": 18,
   "metadata": {},
   "outputs": [],
   "source": [
    "# Dropping Missing Values \n",
    "New_data.dropna(axis=0,how=\"any\",inplace=True)"
   ]
  },
  {
   "cell_type": "code",
   "execution_count": 19,
   "metadata": {},
   "outputs": [
    {
     "data": {
      "text/plain": [
       "Index(['Unnamed: 0_x', 'Transaction ID', 'Date of Travel', 'Company', 'City',\n",
       "       'KM Travelled', 'Price Charged', 'Cost of Trip', 'Profit',\n",
       "       'Unnamed: 0_y', 'Customer ID', 'Payment_Mode', 'Unnamed: 0_x', 'Gender',\n",
       "       'Age', 'Income (USD/Month)', 'Unnamed: 0_y', 'Population', 'Users'],\n",
       "      dtype='object')"
      ]
     },
     "execution_count": 19,
     "metadata": {},
     "output_type": "execute_result"
    }
   ],
   "source": [
    "# List of Columns \n",
    "New_data.columns"
   ]
  },
  {
   "cell_type": "code",
   "execution_count": 20,
   "metadata": {},
   "outputs": [],
   "source": [
    "New_data.drop([\"Unnamed: 0_x\",\"Unnamed: 0_y\",\"Unnamed: 0_x\",\"Unnamed: 0_y\"], axis=1, inplace=True)"
   ]
  },
  {
   "cell_type": "code",
   "execution_count": 21,
   "metadata": {},
   "outputs": [
    {
     "data": {
      "text/plain": [
       "Index(['Transaction ID', 'Date of Travel', 'Company', 'City', 'KM Travelled',\n",
       "       'Price Charged', 'Cost of Trip', 'Profit', 'Customer ID',\n",
       "       'Payment_Mode', 'Gender', 'Age', 'Income (USD/Month)', 'Population',\n",
       "       'Users'],\n",
       "      dtype='object')"
      ]
     },
     "execution_count": 21,
     "metadata": {},
     "output_type": "execute_result"
    }
   ],
   "source": [
    "# List of Columns \n",
    "New_data.columns"
   ]
  },
  {
   "cell_type": "code",
   "execution_count": 22,
   "metadata": {},
   "outputs": [
    {
     "data": {
      "text/plain": [
       "Transaction ID        0\n",
       "Date of Travel        0\n",
       "Company               0\n",
       "City                  0\n",
       "KM Travelled          0\n",
       "Price Charged         0\n",
       "Cost of Trip          0\n",
       "Profit                0\n",
       "Customer ID           0\n",
       "Payment_Mode          0\n",
       "Gender                0\n",
       "Age                   0\n",
       "Income (USD/Month)    0\n",
       "Population            0\n",
       "Users                 0\n",
       "dtype: int64"
      ]
     },
     "execution_count": 22,
     "metadata": {},
     "output_type": "execute_result"
    }
   ],
   "source": [
    "# Checking if the missing value has properly be addressed.\n",
    "New_data.isnull().sum()"
   ]
  },
  {
   "cell_type": "markdown",
   "metadata": {},
   "source": [
    "#### Creating New Variables"
   ]
  },
  {
   "cell_type": "code",
   "execution_count": 23,
   "metadata": {},
   "outputs": [],
   "source": [
    "### Create New Variable\n",
    "# Price Per kilometer Travelled\n",
    "New_data[\"Price/KM\"]= New_data[\"Price Charged\"]/New_data[\"KM Travelled\"]\n",
    "\n",
    "# Cost Per Kiloeter Travelled \n",
    "New_data[\"Cost/KM\"]= New_data[\"Cost of Trip\"]/New_data[\"KM Travelled\"]\n",
    "\n",
    "# Profit per Kilometer Travelled\n",
    "New_data[\"Profit/KM\"]= New_data[\"Profit\"]/New_data[\"KM Travelled\"]"
   ]
  },
  {
   "cell_type": "code",
   "execution_count": 24,
   "metadata": {},
   "outputs": [],
   "source": [
    "### Creating a colums of Year Only\n",
    "New_data[\"Year\"]= pd.DatetimeIndex(New_data[\"Date of Travel\"]).year\n",
    "\n",
    "### Creating a colums of month Only\n",
    "New_data[\"Month\"]= pd.DatetimeIndex(New_data[\"Date of Travel\"]).month\n",
    "\n",
    "### Creating a colums of day Only\n",
    "New_data[\"Days\"]= pd.DatetimeIndex(New_data[\"Date of Travel\"]).day"
   ]
  },
  {
   "cell_type": "code",
   "execution_count": 25,
   "metadata": {},
   "outputs": [
    {
     "data": {
      "text/html": [
       "<div>\n",
       "<style scoped>\n",
       "    .dataframe tbody tr th:only-of-type {\n",
       "        vertical-align: middle;\n",
       "    }\n",
       "\n",
       "    .dataframe tbody tr th {\n",
       "        vertical-align: top;\n",
       "    }\n",
       "\n",
       "    .dataframe thead th {\n",
       "        text-align: right;\n",
       "    }\n",
       "</style>\n",
       "<table border=\"1\" class=\"dataframe\">\n",
       "  <thead>\n",
       "    <tr style=\"text-align: right;\">\n",
       "      <th></th>\n",
       "      <th>Transaction ID</th>\n",
       "      <th>Date of Travel</th>\n",
       "      <th>Company</th>\n",
       "      <th>City</th>\n",
       "      <th>KM Travelled</th>\n",
       "      <th>Price Charged</th>\n",
       "      <th>Cost of Trip</th>\n",
       "      <th>Profit</th>\n",
       "      <th>Customer ID</th>\n",
       "      <th>Payment_Mode</th>\n",
       "      <th>...</th>\n",
       "      <th>Age</th>\n",
       "      <th>Income (USD/Month)</th>\n",
       "      <th>Population</th>\n",
       "      <th>Users</th>\n",
       "      <th>Price/KM</th>\n",
       "      <th>Cost/KM</th>\n",
       "      <th>Profit/KM</th>\n",
       "      <th>Year</th>\n",
       "      <th>Month</th>\n",
       "      <th>Days</th>\n",
       "    </tr>\n",
       "  </thead>\n",
       "  <tbody>\n",
       "    <tr>\n",
       "      <th>0</th>\n",
       "      <td>10000011.0</td>\n",
       "      <td>2016-01-08</td>\n",
       "      <td>Pink Cab</td>\n",
       "      <td>ATLANTA GA</td>\n",
       "      <td>30.45</td>\n",
       "      <td>370.95</td>\n",
       "      <td>313.6350</td>\n",
       "      <td>57.3150</td>\n",
       "      <td>29290.0</td>\n",
       "      <td>Card</td>\n",
       "      <td>...</td>\n",
       "      <td>28.0</td>\n",
       "      <td>10813.0</td>\n",
       "      <td>814885.0</td>\n",
       "      <td>24701.0</td>\n",
       "      <td>12.182266</td>\n",
       "      <td>10.30</td>\n",
       "      <td>1.882266</td>\n",
       "      <td>2016</td>\n",
       "      <td>1</td>\n",
       "      <td>8</td>\n",
       "    </tr>\n",
       "    <tr>\n",
       "      <th>1</th>\n",
       "      <td>10351127.0</td>\n",
       "      <td>2018-07-21</td>\n",
       "      <td>Yellow Cab</td>\n",
       "      <td>ATLANTA GA</td>\n",
       "      <td>26.19</td>\n",
       "      <td>598.70</td>\n",
       "      <td>317.4228</td>\n",
       "      <td>281.2772</td>\n",
       "      <td>29290.0</td>\n",
       "      <td>Cash</td>\n",
       "      <td>...</td>\n",
       "      <td>28.0</td>\n",
       "      <td>10813.0</td>\n",
       "      <td>814885.0</td>\n",
       "      <td>24701.0</td>\n",
       "      <td>22.859870</td>\n",
       "      <td>12.12</td>\n",
       "      <td>10.739870</td>\n",
       "      <td>2018</td>\n",
       "      <td>7</td>\n",
       "      <td>21</td>\n",
       "    </tr>\n",
       "    <tr>\n",
       "      <th>2</th>\n",
       "      <td>10412921.0</td>\n",
       "      <td>2018-11-23</td>\n",
       "      <td>Yellow Cab</td>\n",
       "      <td>ATLANTA GA</td>\n",
       "      <td>42.55</td>\n",
       "      <td>792.05</td>\n",
       "      <td>597.4020</td>\n",
       "      <td>194.6480</td>\n",
       "      <td>29290.0</td>\n",
       "      <td>Card</td>\n",
       "      <td>...</td>\n",
       "      <td>28.0</td>\n",
       "      <td>10813.0</td>\n",
       "      <td>814885.0</td>\n",
       "      <td>24701.0</td>\n",
       "      <td>18.614571</td>\n",
       "      <td>14.04</td>\n",
       "      <td>4.574571</td>\n",
       "      <td>2018</td>\n",
       "      <td>11</td>\n",
       "      <td>23</td>\n",
       "    </tr>\n",
       "  </tbody>\n",
       "</table>\n",
       "<p>3 rows × 21 columns</p>\n",
       "</div>"
      ],
      "text/plain": [
       "   Transaction ID Date of Travel     Company        City  KM Travelled  \\\n",
       "0      10000011.0     2016-01-08    Pink Cab  ATLANTA GA         30.45   \n",
       "1      10351127.0     2018-07-21  Yellow Cab  ATLANTA GA         26.19   \n",
       "2      10412921.0     2018-11-23  Yellow Cab  ATLANTA GA         42.55   \n",
       "\n",
       "   Price Charged  Cost of Trip    Profit  Customer ID Payment_Mode  ...   Age  \\\n",
       "0         370.95      313.6350   57.3150      29290.0         Card  ...  28.0   \n",
       "1         598.70      317.4228  281.2772      29290.0         Cash  ...  28.0   \n",
       "2         792.05      597.4020  194.6480      29290.0         Card  ...  28.0   \n",
       "\n",
       "   Income (USD/Month)  Population    Users   Price/KM  Cost/KM  Profit/KM  \\\n",
       "0             10813.0    814885.0  24701.0  12.182266    10.30   1.882266   \n",
       "1             10813.0    814885.0  24701.0  22.859870    12.12  10.739870   \n",
       "2             10813.0    814885.0  24701.0  18.614571    14.04   4.574571   \n",
       "\n",
       "   Year  Month  Days  \n",
       "0  2016      1     8  \n",
       "1  2018      7    21  \n",
       "2  2018     11    23  \n",
       "\n",
       "[3 rows x 21 columns]"
      ]
     },
     "execution_count": 25,
     "metadata": {},
     "output_type": "execute_result"
    }
   ],
   "source": [
    "# View the dataset\n",
    "New_data.head(3)"
   ]
  },
  {
   "cell_type": "code",
   "execution_count": 26,
   "metadata": {},
   "outputs": [
    {
     "data": {
      "text/plain": [
       "Index(['Transaction ID', 'Date of Travel', 'Company', 'City', 'KM Travelled',\n",
       "       'Price Charged', 'Cost of Trip', 'Profit', 'Customer ID',\n",
       "       'Payment_Mode', 'Gender', 'Age', 'Income (USD/Month)', 'Population',\n",
       "       'Users', 'Price/KM', 'Cost/KM', 'Profit/KM', 'Year', 'Month', 'Days'],\n",
       "      dtype='object')"
      ]
     },
     "execution_count": 26,
     "metadata": {},
     "output_type": "execute_result"
    }
   ],
   "source": [
    "New_data.columns"
   ]
  },
  {
   "cell_type": "code",
   "execution_count": 27,
   "metadata": {},
   "outputs": [
    {
     "data": {
      "text/plain": [
       "0         False\n",
       "1         False\n",
       "2         False\n",
       "3         False\n",
       "4         False\n",
       "          ...  \n",
       "440093    False\n",
       "440094    False\n",
       "440095    False\n",
       "440096    False\n",
       "440097    False\n",
       "Length: 359392, dtype: bool"
      ]
     },
     "execution_count": 27,
     "metadata": {},
     "output_type": "execute_result"
    }
   ],
   "source": [
    "### Finding Duplicates rows/cases in the dataset.\n",
    "New_data.duplicated()"
   ]
  },
  {
   "cell_type": "code",
   "execution_count": 28,
   "metadata": {},
   "outputs": [
    {
     "data": {
      "text/html": [
       "<div>\n",
       "<style scoped>\n",
       "    .dataframe tbody tr th:only-of-type {\n",
       "        vertical-align: middle;\n",
       "    }\n",
       "\n",
       "    .dataframe tbody tr th {\n",
       "        vertical-align: top;\n",
       "    }\n",
       "\n",
       "    .dataframe thead th {\n",
       "        text-align: right;\n",
       "    }\n",
       "</style>\n",
       "<table border=\"1\" class=\"dataframe\">\n",
       "  <thead>\n",
       "    <tr style=\"text-align: right;\">\n",
       "      <th></th>\n",
       "      <th>Transaction ID</th>\n",
       "      <th>Date of Travel</th>\n",
       "      <th>Company</th>\n",
       "      <th>City</th>\n",
       "      <th>KM Travelled</th>\n",
       "      <th>Price Charged</th>\n",
       "      <th>Cost of Trip</th>\n",
       "      <th>Profit</th>\n",
       "      <th>Customer ID</th>\n",
       "      <th>Payment_Mode</th>\n",
       "      <th>...</th>\n",
       "      <th>Age</th>\n",
       "      <th>Income (USD/Month)</th>\n",
       "      <th>Population</th>\n",
       "      <th>Users</th>\n",
       "      <th>Price/KM</th>\n",
       "      <th>Cost/KM</th>\n",
       "      <th>Profit/KM</th>\n",
       "      <th>Year</th>\n",
       "      <th>Month</th>\n",
       "      <th>Days</th>\n",
       "    </tr>\n",
       "  </thead>\n",
       "  <tbody>\n",
       "  </tbody>\n",
       "</table>\n",
       "<p>0 rows × 21 columns</p>\n",
       "</div>"
      ],
      "text/plain": [
       "Empty DataFrame\n",
       "Columns: [Transaction ID, Date of Travel, Company, City, KM Travelled, Price Charged, Cost of Trip, Profit, Customer ID, Payment_Mode, Gender, Age, Income (USD/Month), Population, Users, Price/KM, Cost/KM, Profit/KM, Year, Month, Days]\n",
       "Index: []\n",
       "\n",
       "[0 rows x 21 columns]"
      ]
     },
     "execution_count": 28,
     "metadata": {},
     "output_type": "execute_result"
    }
   ],
   "source": [
    "########## Selecting the Duplicated Row\n",
    "New_data[New_data.duplicated()]"
   ]
  },
  {
   "cell_type": "markdown",
   "metadata": {},
   "source": [
    "There are no duplicates in the dataset"
   ]
  },
  {
   "cell_type": "markdown",
   "metadata": {},
   "source": [
    "## EDA and Hypothesis\n",
    "\n",
    "### Price Charged\n",
    "####  1) Hpothesis: There is no  differnce in the Price Charged by two cab company?- Pink Cab and Yellow Cab"
   ]
  },
  {
   "cell_type": "code",
   "execution_count": 29,
   "metadata": {},
   "outputs": [],
   "source": [
    "# Group the dataset by Company\n",
    "company_group = New_data.groupby(\"Company\")"
   ]
  },
  {
   "cell_type": "code",
   "execution_count": 30,
   "metadata": {},
   "outputs": [
    {
     "data": {
      "text/html": [
       "<div>\n",
       "<style scoped>\n",
       "    .dataframe tbody tr th:only-of-type {\n",
       "        vertical-align: middle;\n",
       "    }\n",
       "\n",
       "    .dataframe tbody tr th {\n",
       "        vertical-align: top;\n",
       "    }\n",
       "\n",
       "    .dataframe thead th {\n",
       "        text-align: right;\n",
       "    }\n",
       "</style>\n",
       "<table border=\"1\" class=\"dataframe\">\n",
       "  <thead>\n",
       "    <tr style=\"text-align: right;\">\n",
       "      <th></th>\n",
       "      <th>Price Charged</th>\n",
       "      <th>Profit</th>\n",
       "      <th>Income (USD/Month)</th>\n",
       "      <th>KM Travelled</th>\n",
       "    </tr>\n",
       "    <tr>\n",
       "      <th>Company</th>\n",
       "      <th></th>\n",
       "      <th></th>\n",
       "      <th></th>\n",
       "      <th></th>\n",
       "    </tr>\n",
       "  </thead>\n",
       "  <tbody>\n",
       "    <tr>\n",
       "      <th>Pink Cab</th>\n",
       "      <td>310.800856</td>\n",
       "      <td>62.652174</td>\n",
       "      <td>15059.047137</td>\n",
       "      <td>22.559917</td>\n",
       "    </tr>\n",
       "    <tr>\n",
       "      <th>Yellow Cab</th>\n",
       "      <td>458.181990</td>\n",
       "      <td>160.259986</td>\n",
       "      <td>15045.669817</td>\n",
       "      <td>22.569517</td>\n",
       "    </tr>\n",
       "  </tbody>\n",
       "</table>\n",
       "</div>"
      ],
      "text/plain": [
       "            Price Charged      Profit  Income (USD/Month)  KM Travelled\n",
       "Company                                                                \n",
       "Pink Cab       310.800856   62.652174        15059.047137     22.559917\n",
       "Yellow Cab     458.181990  160.259986        15045.669817     22.569517"
      ]
     },
     "execution_count": 30,
     "metadata": {},
     "output_type": "execute_result"
    }
   ],
   "source": [
    "company_group.mean().loc[:,[\"Price Charged\",\"Profit\",\"Income (USD/Month)\",\"KM Travelled\"]]"
   ]
  },
  {
   "cell_type": "code",
   "execution_count": 31,
   "metadata": {},
   "outputs": [
    {
     "data": {
      "image/png": "[encoded data removed]",
      "text/plain": [
       "<Figure size 504x288 with 1 Axes>"
      ]
     },
     "metadata": {},
     "output_type": "display_data"
    }
   ],
   "source": [
    "## Bar chart\n",
    "plt.figure(figsize=(7,4))\n",
    "plt.bar(company_group.mean().index,company_group.mean()[\"Price Charged\"],color=[\"pink\",\"yellow\"])\n",
    "plt.xlabel(\"Company\",fontsize=11)\n",
    "plt.ylabel(\"Averge\",fontsize=11)\n",
    "plt.title(\"Price Charged\",fontsize=14,fontstyle=\"italic\",fontweight=\"bold\")\n",
    "plt.show()"
   ]
  },
  {
   "cell_type": "code",
   "execution_count": 32,
   "metadata": {},
   "outputs": [
    {
     "data": {
      "text/plain": [
       "147.38113377588945"
      ]
     },
     "execution_count": 32,
     "metadata": {},
     "output_type": "execute_result"
    }
   ],
   "source": [
    "## The Differnce in the average price charged\n",
    "company_group.mean()[\"Price Charged\"][1] - company_group.mean()[\"Price Charged\"][0]"
   ]
  },
  {
   "cell_type": "markdown",
   "metadata": {},
   "source": [
    "There is a differce in the average price charged by the two cab company, The Yellow Cab Company Charged on an aveerage 147 more  than the Pink cab"
   ]
  },
  {
   "cell_type": "markdown",
   "metadata": {},
   "source": [
    "#### 2) Hpothesis: There is no differnce in the Price charged by two cab company across the City\n",
    "\n",
    "is there any city where the price charged is greater than the other?"
   ]
  },
  {
   "cell_type": "code",
   "execution_count": 33,
   "metadata": {},
   "outputs": [
    {
     "data": {
      "text/plain": [
       "array(['ATLANTA GA', 'AUSTIN TX', 'BOSTON MA', 'CHICAGO IL', 'DALLAS TX',\n",
       "       'DENVER CO', 'LOS ANGELES CA', 'MIAMI FL', 'NASHVILLE TN',\n",
       "       'NEW YORK NY', 'ORANGE COUNTY', 'PHOENIX AZ', 'PITTSBURGH PA',\n",
       "       'SACRAMENTO CA', 'SAN DIEGO CA', 'SEATTLE WA', 'SILICON VALLEY',\n",
       "       'TUCSON AZ', 'WASHINGTON DC'], dtype=object)"
      ]
     },
     "execution_count": 33,
     "metadata": {},
     "output_type": "execute_result"
    }
   ],
   "source": [
    "## An array of City\n",
    "city = New_data[\"City\"].unique()\n",
    "city"
   ]
  },
  {
   "cell_type": "code",
   "execution_count": 34,
   "metadata": {},
   "outputs": [
    {
     "data": {
      "text/html": [
       "<div>\n",
       "<style scoped>\n",
       "    .dataframe tbody tr th:only-of-type {\n",
       "        vertical-align: middle;\n",
       "    }\n",
       "\n",
       "    .dataframe tbody tr th {\n",
       "        vertical-align: top;\n",
       "    }\n",
       "\n",
       "    .dataframe thead tr th {\n",
       "        text-align: left;\n",
       "    }\n",
       "\n",
       "    .dataframe thead tr:last-of-type th {\n",
       "        text-align: right;\n",
       "    }\n",
       "</style>\n",
       "<table border=\"1\" class=\"dataframe\">\n",
       "  <thead>\n",
       "    <tr>\n",
       "      <th></th>\n",
       "      <th colspan=\"19\" halign=\"left\">Price Charged</th>\n",
       "    </tr>\n",
       "    <tr>\n",
       "      <th>City</th>\n",
       "      <th>ATLANTA GA</th>\n",
       "      <th>AUSTIN TX</th>\n",
       "      <th>BOSTON MA</th>\n",
       "      <th>CHICAGO IL</th>\n",
       "      <th>DALLAS TX</th>\n",
       "      <th>DENVER CO</th>\n",
       "      <th>LOS ANGELES CA</th>\n",
       "      <th>MIAMI FL</th>\n",
       "      <th>NASHVILLE TN</th>\n",
       "      <th>NEW YORK NY</th>\n",
       "      <th>ORANGE COUNTY</th>\n",
       "      <th>PHOENIX AZ</th>\n",
       "      <th>PITTSBURGH PA</th>\n",
       "      <th>SACRAMENTO CA</th>\n",
       "      <th>SAN DIEGO CA</th>\n",
       "      <th>SEATTLE WA</th>\n",
       "      <th>SILICON VALLEY</th>\n",
       "      <th>TUCSON AZ</th>\n",
       "      <th>WASHINGTON DC</th>\n",
       "    </tr>\n",
       "    <tr>\n",
       "      <th>Company</th>\n",
       "      <th></th>\n",
       "      <th></th>\n",
       "      <th></th>\n",
       "      <th></th>\n",
       "      <th></th>\n",
       "      <th></th>\n",
       "      <th></th>\n",
       "      <th></th>\n",
       "      <th></th>\n",
       "      <th></th>\n",
       "      <th></th>\n",
       "      <th></th>\n",
       "      <th></th>\n",
       "      <th></th>\n",
       "      <th></th>\n",
       "      <th></th>\n",
       "      <th></th>\n",
       "      <th></th>\n",
       "      <th></th>\n",
       "    </tr>\n",
       "  </thead>\n",
       "  <tbody>\n",
       "    <tr>\n",
       "      <th>Pink Cab</th>\n",
       "      <td>302.131555</td>\n",
       "      <td>320.43507</td>\n",
       "      <td>300.551489</td>\n",
       "      <td>281.613731</td>\n",
       "      <td>260.025652</td>\n",
       "      <td>276.202453</td>\n",
       "      <td>305.624252</td>\n",
       "      <td>326.006309</td>\n",
       "      <td>282.062493</td>\n",
       "      <td>357.074129</td>\n",
       "      <td>312.026874</td>\n",
       "      <td>280.321458</td>\n",
       "      <td>273.879355</td>\n",
       "      <td>290.110810</td>\n",
       "      <td>307.938193</td>\n",
       "      <td>291.223898</td>\n",
       "      <td>340.377008</td>\n",
       "      <td>323.213554</td>\n",
       "      <td>299.974561</td>\n",
       "    </tr>\n",
       "    <tr>\n",
       "      <th>Yellow Cab</th>\n",
       "      <td>422.413446</td>\n",
       "      <td>422.24894</td>\n",
       "      <td>359.140431</td>\n",
       "      <td>364.021927</td>\n",
       "      <td>493.807790</td>\n",
       "      <td>443.235413</td>\n",
       "      <td>416.231136</td>\n",
       "      <td>432.944872</td>\n",
       "      <td>376.245577</td>\n",
       "      <td>604.841911</td>\n",
       "      <td>438.548623</td>\n",
       "      <td>428.737417</td>\n",
       "      <td>405.313661</td>\n",
       "      <td>362.637106</td>\n",
       "      <td>392.223328</td>\n",
       "      <td>391.014733</td>\n",
       "      <td>506.499502</td>\n",
       "      <td>366.018224</td>\n",
       "      <td>381.051261</td>\n",
       "    </tr>\n",
       "  </tbody>\n",
       "</table>\n",
       "</div>"
      ],
      "text/plain": [
       "           Price Charged                                                 \\\n",
       "City          ATLANTA GA  AUSTIN TX   BOSTON MA  CHICAGO IL   DALLAS TX   \n",
       "Company                                                                   \n",
       "Pink Cab      302.131555  320.43507  300.551489  281.613731  260.025652   \n",
       "Yellow Cab    422.413446  422.24894  359.140431  364.021927  493.807790   \n",
       "\n",
       "                                                                            \\\n",
       "City         DENVER CO LOS ANGELES CA    MIAMI FL NASHVILLE TN NEW YORK NY   \n",
       "Company                                                                      \n",
       "Pink Cab    276.202453     305.624252  326.006309   282.062493  357.074129   \n",
       "Yellow Cab  443.235413     416.231136  432.944872   376.245577  604.841911   \n",
       "\n",
       "                                                                               \\\n",
       "City       ORANGE COUNTY  PHOENIX AZ PITTSBURGH PA SACRAMENTO CA SAN DIEGO CA   \n",
       "Company                                                                         \n",
       "Pink Cab      312.026874  280.321458    273.879355    290.110810   307.938193   \n",
       "Yellow Cab    438.548623  428.737417    405.313661    362.637106   392.223328   \n",
       "\n",
       "                                                                 \n",
       "City        SEATTLE WA SILICON VALLEY   TUCSON AZ WASHINGTON DC  \n",
       "Company                                                          \n",
       "Pink Cab    291.223898     340.377008  323.213554    299.974561  \n",
       "Yellow Cab  391.014733     506.499502  366.018224    381.051261  "
      ]
     },
     "execution_count": 34,
     "metadata": {},
     "output_type": "execute_result"
    }
   ],
   "source": [
    "# Pivot table- The average Price Charge by Company and City\n",
    "pvt1 = pd.pivot_table(New_data, values=[\"Price Charged\"],index='Company',columns=\"City\",aggfunc=\"mean\")\n",
    "pvt1"
   ]
  },
  {
   "cell_type": "code",
   "execution_count": 35,
   "metadata": {},
   "outputs": [
    {
     "data": {
      "image/png": "[encoded data removed]",
      "text/plain": [
       "<Figure size 1440x504 with 1 Axes>"
      ]
     },
     "metadata": {},
     "output_type": "display_data"
    }
   ],
   "source": [
    "## Distribution\n",
    "plt.figure(figsize=(20,7))\n",
    "X= np.arange(19)\n",
    "plt.bar(X,pvt1.iloc[0,:].values,color=\"pink\",width=0.3,label=\"Pink Cab\")\n",
    "plt.bar(X+0.3,pvt1.iloc[1,:].values,color=\"yellow\",width=0.3,label=\"Yellow Cab\")\n",
    "plt.xlabel(\"City\",fontsize=11)\n",
    "plt.ylabel(\"Averge Value\",fontsize=11)\n",
    "plt.xticks(X+0.15,city,rotation=90)\n",
    "plt.title(\"Price Charged across City: Pink and Yellow Cab \",fontsize=14,fontstyle=\"italic\",fontweight=\"bold\")\n",
    "plt.show()"
   ]
  },
  {
   "cell_type": "markdown",
   "metadata": {},
   "source": [
    "Across all City, The Profit Charged by the Yellow cab company is more than the pink cab company."
   ]
  },
  {
   "cell_type": "markdown",
   "metadata": {},
   "source": [
    "#### 3) Hpothesis: There is  a no  differnce in the Price charged by two cab company across the Year"
   ]
  },
  {
   "cell_type": "code",
   "execution_count": 36,
   "metadata": {},
   "outputs": [
    {
     "data": {
      "text/html": [
       "<div>\n",
       "<style scoped>\n",
       "    .dataframe tbody tr th:only-of-type {\n",
       "        vertical-align: middle;\n",
       "    }\n",
       "\n",
       "    .dataframe tbody tr th {\n",
       "        vertical-align: top;\n",
       "    }\n",
       "\n",
       "    .dataframe thead tr th {\n",
       "        text-align: left;\n",
       "    }\n",
       "\n",
       "    .dataframe thead tr:last-of-type th {\n",
       "        text-align: right;\n",
       "    }\n",
       "</style>\n",
       "<table border=\"1\" class=\"dataframe\">\n",
       "  <thead>\n",
       "    <tr>\n",
       "      <th></th>\n",
       "      <th colspan=\"3\" halign=\"left\">Price Charged</th>\n",
       "    </tr>\n",
       "    <tr>\n",
       "      <th>Year</th>\n",
       "      <th>2016</th>\n",
       "      <th>2017</th>\n",
       "      <th>2018</th>\n",
       "    </tr>\n",
       "    <tr>\n",
       "      <th>Company</th>\n",
       "      <th></th>\n",
       "      <th></th>\n",
       "      <th></th>\n",
       "    </tr>\n",
       "  </thead>\n",
       "  <tbody>\n",
       "    <tr>\n",
       "      <th>Pink Cab</th>\n",
       "      <td>315.330113</td>\n",
       "      <td>315.907442</td>\n",
       "      <td>301.642530</td>\n",
       "    </tr>\n",
       "    <tr>\n",
       "      <th>Yellow Cab</th>\n",
       "      <td>467.918301</td>\n",
       "      <td>466.639950</td>\n",
       "      <td>440.875558</td>\n",
       "    </tr>\n",
       "  </tbody>\n",
       "</table>\n",
       "</div>"
      ],
      "text/plain": [
       "           Price Charged                        \n",
       "Year                2016        2017        2018\n",
       "Company                                         \n",
       "Pink Cab      315.330113  315.907442  301.642530\n",
       "Yellow Cab    467.918301  466.639950  440.875558"
      ]
     },
     "execution_count": 36,
     "metadata": {},
     "output_type": "execute_result"
    }
   ],
   "source": [
    "# Pivot Table- Avearge Price Charged acroos the year\n",
    "pvt2 = pd.pivot_table(New_data, values=[\"Price Charged\"],index='Company',columns=\"Year\",aggfunc=\"mean\")\n",
    "pvt2"
   ]
  },
  {
   "cell_type": "code",
   "execution_count": 37,
   "metadata": {},
   "outputs": [
    {
     "data": {
      "image/png": "[encoded data removed]",
      "text/plain": [
       "<Figure size 720x288 with 1 Axes>"
      ]
     },
     "metadata": {},
     "output_type": "display_data"
    }
   ],
   "source": [
    "## Distribution\n",
    "plt.figure(figsize=(10,4))\n",
    "X= np.arange(3)\n",
    "plt.bar(X,pvt2.iloc[0,:].values,color=\"pink\",width=0.3,label=\"Pink Cab\")\n",
    "plt.bar(X+0.3,pvt2.iloc[1,:].values,color=\"yellow\",width=0.3,label=\"Yellow Cab\")\n",
    "plt.xlabel(\"Year\",fontsize=11)\n",
    "plt.ylabel(\"Averge Value\",fontsize=11)\n",
    "plt.xticks(X+0.15,[\"2016\",\"2017\",\"2018\"])\n",
    "plt.title(\"Price Charged across Year: Pink and Yellow Cab \",fontsize=14,fontstyle=\"italic\",fontweight=\"bold\")\n",
    "plt.show()"
   ]
  },
  {
   "cell_type": "markdown",
   "metadata": {},
   "source": [
    "The Average Price Charged for the Yellow Cab is higher across the year when compared to the pinks Cab."
   ]
  },
  {
   "cell_type": "markdown",
   "metadata": {},
   "source": [
    "#### 4) Hpothesis: There is  a no  differnce in the Price charged by two cab company across the Month"
   ]
  },
  {
   "cell_type": "code",
   "execution_count": 38,
   "metadata": {},
   "outputs": [
    {
     "data": {
      "text/html": [
       "<div>\n",
       "<style scoped>\n",
       "    .dataframe tbody tr th:only-of-type {\n",
       "        vertical-align: middle;\n",
       "    }\n",
       "\n",
       "    .dataframe tbody tr th {\n",
       "        vertical-align: top;\n",
       "    }\n",
       "\n",
       "    .dataframe thead tr th {\n",
       "        text-align: left;\n",
       "    }\n",
       "\n",
       "    .dataframe thead tr:last-of-type th {\n",
       "        text-align: right;\n",
       "    }\n",
       "</style>\n",
       "<table border=\"1\" class=\"dataframe\">\n",
       "  <thead>\n",
       "    <tr>\n",
       "      <th></th>\n",
       "      <th colspan=\"12\" halign=\"left\">Price Charged</th>\n",
       "    </tr>\n",
       "    <tr>\n",
       "      <th>Month</th>\n",
       "      <th>1</th>\n",
       "      <th>2</th>\n",
       "      <th>3</th>\n",
       "      <th>4</th>\n",
       "      <th>5</th>\n",
       "      <th>6</th>\n",
       "      <th>7</th>\n",
       "      <th>8</th>\n",
       "      <th>9</th>\n",
       "      <th>10</th>\n",
       "      <th>11</th>\n",
       "      <th>12</th>\n",
       "    </tr>\n",
       "    <tr>\n",
       "      <th>Company</th>\n",
       "      <th></th>\n",
       "      <th></th>\n",
       "      <th></th>\n",
       "      <th></th>\n",
       "      <th></th>\n",
       "      <th></th>\n",
       "      <th></th>\n",
       "      <th></th>\n",
       "      <th></th>\n",
       "      <th></th>\n",
       "      <th></th>\n",
       "      <th></th>\n",
       "    </tr>\n",
       "  </thead>\n",
       "  <tbody>\n",
       "    <tr>\n",
       "      <th>Pink Cab</th>\n",
       "      <td>323.965715</td>\n",
       "      <td>322.869816</td>\n",
       "      <td>323.829922</td>\n",
       "      <td>307.882682</td>\n",
       "      <td>280.909008</td>\n",
       "      <td>289.860660</td>\n",
       "      <td>293.270042</td>\n",
       "      <td>297.748107</td>\n",
       "      <td>298.572337</td>\n",
       "      <td>313.221773</td>\n",
       "      <td>321.388766</td>\n",
       "      <td>337.896084</td>\n",
       "    </tr>\n",
       "    <tr>\n",
       "      <th>Yellow Cab</th>\n",
       "      <td>485.584381</td>\n",
       "      <td>496.415571</td>\n",
       "      <td>479.070161</td>\n",
       "      <td>475.398838</td>\n",
       "      <td>509.412546</td>\n",
       "      <td>487.664774</td>\n",
       "      <td>435.306015</td>\n",
       "      <td>419.012419</td>\n",
       "      <td>448.998835</td>\n",
       "      <td>437.624182</td>\n",
       "      <td>443.486553</td>\n",
       "      <td>444.034931</td>\n",
       "    </tr>\n",
       "  </tbody>\n",
       "</table>\n",
       "</div>"
      ],
      "text/plain": [
       "           Price Charged                                                  \\\n",
       "Month                 1           2           3           4           5    \n",
       "Company                                                                    \n",
       "Pink Cab      323.965715  322.869816  323.829922  307.882682  280.909008   \n",
       "Yellow Cab    485.584381  496.415571  479.070161  475.398838  509.412546   \n",
       "\n",
       "                                                                        \\\n",
       "Month               6           7           8           9           10   \n",
       "Company                                                                  \n",
       "Pink Cab    289.860660  293.270042  297.748107  298.572337  313.221773   \n",
       "Yellow Cab  487.664774  435.306015  419.012419  448.998835  437.624182   \n",
       "\n",
       "                                    \n",
       "Month               11          12  \n",
       "Company                             \n",
       "Pink Cab    321.388766  337.896084  \n",
       "Yellow Cab  443.486553  444.034931  "
      ]
     },
     "execution_count": 38,
     "metadata": {},
     "output_type": "execute_result"
    }
   ],
   "source": [
    "# Pivot Table- Avearge Price Charged acroos the year\n",
    "pvt3 = pd.pivot_table(New_data, values=[\"Price Charged\"],index='Company',columns=\"Month\",aggfunc=\"mean\")\n",
    "pvt3"
   ]
  },
  {
   "cell_type": "code",
   "execution_count": 39,
   "metadata": {},
   "outputs": [
    {
     "data": {
      "image/png": "[encoded data removed]",
      "text/plain": [
       "<Figure size 792x360 with 1 Axes>"
      ]
     },
     "metadata": {},
     "output_type": "display_data"
    }
   ],
   "source": [
    "## Distribution\n",
    "plt.figure(figsize=(11,5))\n",
    "X= np.arange(12)\n",
    "plt.bar(X,pvt3.iloc[0,:].values,color=\"pink\",width=0.3,label=\"Pink Cab\")\n",
    "plt.bar(X+0.3,pvt3.iloc[1,:].values,color=\"yellow\",width=0.3,label=\"Yellow Cab\")\n",
    "plt.xlabel(\"Year\",fontsize=11)\n",
    "plt.ylabel(\"Averge Value\",fontsize=11)\n",
    "plt.xticks(X+0.15,[\"January\",\"February\",\"March\",\"April\",\"May\",\"June\",\"July\",\"August\",\"September\",\"October\",\"November\",\"December\"],\\\n",
    "          rotation=90)\n",
    "plt.title(\"Price Charged across Month: Pink and Yellow Cab \",fontsize=14,fontstyle=\"italic\",fontweight=\"bold\")\n",
    "plt.show()"
   ]
  },
  {
   "cell_type": "markdown",
   "metadata": {},
   "source": [
    "The Yellow Cab has  a higher average price charged across the Month when compared to the Pink Cab. This dynamics has not changed across Month"
   ]
  },
  {
   "cell_type": "markdown",
   "metadata": {},
   "source": [
    "###### Trend in the Price Charged "
   ]
  },
  {
   "cell_type": "code",
   "execution_count": 40,
   "metadata": {},
   "outputs": [
    {
     "data": {
      "text/html": [
       "<div>\n",
       "<style scoped>\n",
       "    .dataframe tbody tr th:only-of-type {\n",
       "        vertical-align: middle;\n",
       "    }\n",
       "\n",
       "    .dataframe tbody tr th {\n",
       "        vertical-align: top;\n",
       "    }\n",
       "\n",
       "    .dataframe thead tr th {\n",
       "        text-align: left;\n",
       "    }\n",
       "\n",
       "    .dataframe thead tr:last-of-type th {\n",
       "        text-align: right;\n",
       "    }\n",
       "</style>\n",
       "<table border=\"1\" class=\"dataframe\">\n",
       "  <thead>\n",
       "    <tr>\n",
       "      <th></th>\n",
       "      <th colspan=\"21\" halign=\"left\">Price Charged</th>\n",
       "    </tr>\n",
       "    <tr>\n",
       "      <th>Year</th>\n",
       "      <th colspan=\"10\" halign=\"left\">2016</th>\n",
       "      <th>...</th>\n",
       "      <th colspan=\"10\" halign=\"left\">2018</th>\n",
       "    </tr>\n",
       "    <tr>\n",
       "      <th>Month</th>\n",
       "      <th>1</th>\n",
       "      <th>2</th>\n",
       "      <th>3</th>\n",
       "      <th>4</th>\n",
       "      <th>5</th>\n",
       "      <th>6</th>\n",
       "      <th>7</th>\n",
       "      <th>8</th>\n",
       "      <th>9</th>\n",
       "      <th>10</th>\n",
       "      <th>...</th>\n",
       "      <th>3</th>\n",
       "      <th>4</th>\n",
       "      <th>5</th>\n",
       "      <th>6</th>\n",
       "      <th>7</th>\n",
       "      <th>8</th>\n",
       "      <th>9</th>\n",
       "      <th>10</th>\n",
       "      <th>11</th>\n",
       "      <th>12</th>\n",
       "    </tr>\n",
       "    <tr>\n",
       "      <th>Company</th>\n",
       "      <th></th>\n",
       "      <th></th>\n",
       "      <th></th>\n",
       "      <th></th>\n",
       "      <th></th>\n",
       "      <th></th>\n",
       "      <th></th>\n",
       "      <th></th>\n",
       "      <th></th>\n",
       "      <th></th>\n",
       "      <th></th>\n",
       "      <th></th>\n",
       "      <th></th>\n",
       "      <th></th>\n",
       "      <th></th>\n",
       "      <th></th>\n",
       "      <th></th>\n",
       "      <th></th>\n",
       "      <th></th>\n",
       "      <th></th>\n",
       "      <th></th>\n",
       "    </tr>\n",
       "  </thead>\n",
       "  <tbody>\n",
       "    <tr>\n",
       "      <th>Pink Cab</th>\n",
       "      <td>329.273754</td>\n",
       "      <td>328.116057</td>\n",
       "      <td>320.788278</td>\n",
       "      <td>308.933476</td>\n",
       "      <td>285.406356</td>\n",
       "      <td>290.837399</td>\n",
       "      <td>300.526673</td>\n",
       "      <td>305.595744</td>\n",
       "      <td>294.861160</td>\n",
       "      <td>315.994016</td>\n",
       "      <td>...</td>\n",
       "      <td>316.859563</td>\n",
       "      <td>304.12649</td>\n",
       "      <td>274.868490</td>\n",
       "      <td>277.087723</td>\n",
       "      <td>284.735142</td>\n",
       "      <td>287.082388</td>\n",
       "      <td>292.607824</td>\n",
       "      <td>305.164311</td>\n",
       "      <td>311.165384</td>\n",
       "      <td>321.952363</td>\n",
       "    </tr>\n",
       "    <tr>\n",
       "      <th>Yellow Cab</th>\n",
       "      <td>524.912546</td>\n",
       "      <td>513.100028</td>\n",
       "      <td>479.378103</td>\n",
       "      <td>476.837149</td>\n",
       "      <td>510.520786</td>\n",
       "      <td>518.223370</td>\n",
       "      <td>450.808252</td>\n",
       "      <td>421.765382</td>\n",
       "      <td>460.324585</td>\n",
       "      <td>438.220594</td>\n",
       "      <td>...</td>\n",
       "      <td>460.284521</td>\n",
       "      <td>461.31330</td>\n",
       "      <td>491.562079</td>\n",
       "      <td>469.114105</td>\n",
       "      <td>416.078900</td>\n",
       "      <td>405.279135</td>\n",
       "      <td>427.231602</td>\n",
       "      <td>428.342775</td>\n",
       "      <td>423.468039</td>\n",
       "      <td>430.493864</td>\n",
       "    </tr>\n",
       "  </tbody>\n",
       "</table>\n",
       "<p>2 rows × 36 columns</p>\n",
       "</div>"
      ],
      "text/plain": [
       "           Price Charged                                                  \\\n",
       "Year                2016                                                   \n",
       "Month                 1           2           3           4           5    \n",
       "Company                                                                    \n",
       "Pink Cab      329.273754  328.116057  320.788278  308.933476  285.406356   \n",
       "Yellow Cab    524.912546  513.100028  479.378103  476.837149  510.520786   \n",
       "\n",
       "                                                                        ...  \\\n",
       "Year                                                                    ...   \n",
       "Month               6           7           8           9           10  ...   \n",
       "Company                                                                 ...   \n",
       "Pink Cab    290.837399  300.526673  305.595744  294.861160  315.994016  ...   \n",
       "Yellow Cab  518.223370  450.808252  421.765382  460.324585  438.220594  ...   \n",
       "\n",
       "                                                                       \\\n",
       "Year              2018                                                  \n",
       "Month               3          4           5           6           7    \n",
       "Company                                                                 \n",
       "Pink Cab    316.859563  304.12649  274.868490  277.087723  284.735142   \n",
       "Yellow Cab  460.284521  461.31330  491.562079  469.114105  416.078900   \n",
       "\n",
       "                                                                        \n",
       "Year                                                                    \n",
       "Month               8           9           10          11          12  \n",
       "Company                                                                 \n",
       "Pink Cab    287.082388  292.607824  305.164311  311.165384  321.952363  \n",
       "Yellow Cab  405.279135  427.231602  428.342775  423.468039  430.493864  \n",
       "\n",
       "[2 rows x 36 columns]"
      ]
     },
     "execution_count": 40,
     "metadata": {},
     "output_type": "execute_result"
    }
   ],
   "source": [
    "pvt4 = pd.pivot_table(New_data, values=[\"Price Charged\"],index='Company',columns=[\"Year\",\"Month\"],aggfunc=\"mean\")\n",
    "pvt4"
   ]
  },
  {
   "cell_type": "code",
   "execution_count": 41,
   "metadata": {},
   "outputs": [
    {
     "data": {
      "image/png": "[encoded data removed]",
      "text/plain": [
       "<Figure size 1080x360 with 1 Axes>"
      ]
     },
     "metadata": {},
     "output_type": "display_data"
    }
   ],
   "source": [
    "## Distribution\n",
    "#plt.style.use(\"classic\")\n",
    "plt.figure(figsize=(15,5))\n",
    "X= np.arange(36)\n",
    "pvt4.iloc[0,:].plot(color=\"pink\")\n",
    "pvt4.iloc[1,:].plot(color=\"yellow\")\n",
    "plt.xlabel(\"Year\",fontsize=11)\n",
    "plt.ylabel(\"Averge Value\",fontsize=11)\n",
    "plt.xticks(X,[\"2016: 1\",\"2016: 2\",\"2016: 3\",\"2016: 4\",\"2016: 5\",\"2016: 6\",\"2016: 7\",\"2016: 8\",\"2016: 9\",\"2016: 10\",\"2016: 11\",\"2016: 12\",\\\n",
    "           \"2017: 1\",\"2017: 2\",\"2017: 3\",\"2017: 4\",\"2017: 5\",\"2017: 6\",\"2017: 7\",\"2017: 8\",\"2017: 9\",\"2017: 10\",\"2017: 11\",\"20177: 12\",\\\n",
    "             \"2018: 1\",\"2018: 2\",\"2018: 3\",\"2018: 4\",\"2018: 5\",\"2018: 6\",\"2018: 7\",\"2018: 8\",\"2018: 9\",\"2018: 10\",\"2018: 11\",\"2018: 12\"],rotation=90)\n",
    "plt.title(\"Trend in the Priced Charged: Pink and Yellow Cab \",fontname=\"Tahoma\",fontsize=12,fontstyle=\"italic\",fontweight=\"bold\")\n",
    "plt.show()"
   ]
  },
  {
   "cell_type": "markdown",
   "metadata": {},
   "source": [
    "### Profit "
   ]
  },
  {
   "cell_type": "markdown",
   "metadata": {},
   "source": [
    "#### 5) Hpothesis: There is a no difference in the Profit by two cab company"
   ]
  },
  {
   "cell_type": "code",
   "execution_count": 42,
   "metadata": {},
   "outputs": [
    {
     "name": "stderr",
     "output_type": "stream",
     "text": [
      "findfont: Font family ['Ubuntu'] not found. Falling back to DejaVu Sans.\n"
     ]
    },
    {
     "data": {
      "image/png": "[encoded data removed]",
      "text/plain": [
       "<Figure size 504x288 with 1 Axes>"
      ]
     },
     "metadata": {},
     "output_type": "display_data"
    }
   ],
   "source": [
    "## Distribution\n",
    "plt.figure(figsize=(7,4))\n",
    "plt.bar(company_group.mean().index,company_group.mean()[\"Profit\"],color=[\"pink\",\"yellow\"])\n",
    "plt.xlabel(\"Company\",fontsize=11)\n",
    "plt.ylabel(\"Averge Value\",fontsize=11)\n",
    "plt.title(\"Profit\",fontname=\"Ubuntu\",fontsize=14,fontstyle=\"italic\",fontweight=\"bold\")\n",
    "plt.show()"
   ]
  },
  {
   "cell_type": "code",
   "execution_count": 43,
   "metadata": {},
   "outputs": [
    {
     "data": {
      "text/plain": [
       "97.60781173141027"
      ]
     },
     "execution_count": 43,
     "metadata": {},
     "output_type": "execute_result"
    }
   ],
   "source": [
    "## The Differnce in the average price charged\n",
    "company_group.mean()[\"Profit\"][1] - company_group.mean()[\"Profit\"][0]"
   ]
  },
  {
   "cell_type": "markdown",
   "metadata": {},
   "source": [
    "The Yellow cab makes more profit when compared to the pink cab, The yellow Cab has an average of 97.607 profit more than the pink cab"
   ]
  },
  {
   "cell_type": "markdown",
   "metadata": {},
   "source": [
    "#### 6) Hpothesis: There is no difference in the Profit by two cab company across the different City"
   ]
  },
  {
   "cell_type": "code",
   "execution_count": 44,
   "metadata": {},
   "outputs": [
    {
     "data": {
      "text/html": [
       "<div>\n",
       "<style scoped>\n",
       "    .dataframe tbody tr th:only-of-type {\n",
       "        vertical-align: middle;\n",
       "    }\n",
       "\n",
       "    .dataframe tbody tr th {\n",
       "        vertical-align: top;\n",
       "    }\n",
       "\n",
       "    .dataframe thead tr th {\n",
       "        text-align: left;\n",
       "    }\n",
       "\n",
       "    .dataframe thead tr:last-of-type th {\n",
       "        text-align: right;\n",
       "    }\n",
       "</style>\n",
       "<table border=\"1\" class=\"dataframe\">\n",
       "  <thead>\n",
       "    <tr>\n",
       "      <th></th>\n",
       "      <th colspan=\"19\" halign=\"left\">Profit</th>\n",
       "    </tr>\n",
       "    <tr>\n",
       "      <th>City</th>\n",
       "      <th>ATLANTA GA</th>\n",
       "      <th>AUSTIN TX</th>\n",
       "      <th>BOSTON MA</th>\n",
       "      <th>CHICAGO IL</th>\n",
       "      <th>DALLAS TX</th>\n",
       "      <th>DENVER CO</th>\n",
       "      <th>LOS ANGELES CA</th>\n",
       "      <th>MIAMI FL</th>\n",
       "      <th>NASHVILLE TN</th>\n",
       "      <th>NEW YORK NY</th>\n",
       "      <th>ORANGE COUNTY</th>\n",
       "      <th>PHOENIX AZ</th>\n",
       "      <th>PITTSBURGH PA</th>\n",
       "      <th>SACRAMENTO CA</th>\n",
       "      <th>SAN DIEGO CA</th>\n",
       "      <th>SEATTLE WA</th>\n",
       "      <th>SILICON VALLEY</th>\n",
       "      <th>TUCSON AZ</th>\n",
       "      <th>WASHINGTON DC</th>\n",
       "    </tr>\n",
       "    <tr>\n",
       "      <th>Company</th>\n",
       "      <th></th>\n",
       "      <th></th>\n",
       "      <th></th>\n",
       "      <th></th>\n",
       "      <th></th>\n",
       "      <th></th>\n",
       "      <th></th>\n",
       "      <th></th>\n",
       "      <th></th>\n",
       "      <th></th>\n",
       "      <th></th>\n",
       "      <th></th>\n",
       "      <th></th>\n",
       "      <th></th>\n",
       "      <th></th>\n",
       "      <th></th>\n",
       "      <th></th>\n",
       "      <th></th>\n",
       "      <th></th>\n",
       "    </tr>\n",
       "  </thead>\n",
       "  <tbody>\n",
       "    <tr>\n",
       "      <th>Pink Cab</th>\n",
       "      <td>54.511961</td>\n",
       "      <td>78.932168</td>\n",
       "      <td>50.520960</td>\n",
       "      <td>34.047910</td>\n",
       "      <td>17.920371</td>\n",
       "      <td>29.114016</td>\n",
       "      <td>56.669120</td>\n",
       "      <td>81.069526</td>\n",
       "      <td>34.918269</td>\n",
       "      <td>108.217540</td>\n",
       "      <td>67.412976</td>\n",
       "      <td>41.199530</td>\n",
       "      <td>25.084660</td>\n",
       "      <td>41.472273</td>\n",
       "      <td>59.772280</td>\n",
       "      <td>41.281601</td>\n",
       "      <td>89.610358</td>\n",
       "      <td>74.204725</td>\n",
       "      <td>52.482761</td>\n",
       "    </tr>\n",
       "    <tr>\n",
       "      <th>Yellow Cab</th>\n",
       "      <td>128.797723</td>\n",
       "      <td>125.249582</td>\n",
       "      <td>61.483619</td>\n",
       "      <td>64.924486</td>\n",
       "      <td>195.849415</td>\n",
       "      <td>146.853175</td>\n",
       "      <td>116.656368</td>\n",
       "      <td>133.872429</td>\n",
       "      <td>72.923597</td>\n",
       "      <td>307.864252</td>\n",
       "      <td>143.785355</td>\n",
       "      <td>131.120407</td>\n",
       "      <td>107.857716</td>\n",
       "      <td>60.021471</td>\n",
       "      <td>96.706775</td>\n",
       "      <td>93.428968</td>\n",
       "      <td>206.788383</td>\n",
       "      <td>71.529258</td>\n",
       "      <td>82.384912</td>\n",
       "    </tr>\n",
       "  </tbody>\n",
       "</table>\n",
       "</div>"
      ],
      "text/plain": [
       "                Profit                                                \\\n",
       "City        ATLANTA GA   AUSTIN TX  BOSTON MA CHICAGO IL   DALLAS TX   \n",
       "Company                                                                \n",
       "Pink Cab     54.511961   78.932168  50.520960  34.047910   17.920371   \n",
       "Yellow Cab  128.797723  125.249582  61.483619  64.924486  195.849415   \n",
       "\n",
       "                                                                            \\\n",
       "City         DENVER CO LOS ANGELES CA    MIAMI FL NASHVILLE TN NEW YORK NY   \n",
       "Company                                                                      \n",
       "Pink Cab     29.114016      56.669120   81.069526    34.918269  108.217540   \n",
       "Yellow Cab  146.853175     116.656368  133.872429    72.923597  307.864252   \n",
       "\n",
       "                                                                               \\\n",
       "City       ORANGE COUNTY  PHOENIX AZ PITTSBURGH PA SACRAMENTO CA SAN DIEGO CA   \n",
       "Company                                                                         \n",
       "Pink Cab       67.412976   41.199530     25.084660     41.472273    59.772280   \n",
       "Yellow Cab    143.785355  131.120407    107.857716     60.021471    96.706775   \n",
       "\n",
       "                                                               \n",
       "City       SEATTLE WA SILICON VALLEY  TUCSON AZ WASHINGTON DC  \n",
       "Company                                                        \n",
       "Pink Cab    41.281601      89.610358  74.204725     52.482761  \n",
       "Yellow Cab  93.428968     206.788383  71.529258     82.384912  "
      ]
     },
     "execution_count": 44,
     "metadata": {},
     "output_type": "execute_result"
    }
   ],
   "source": [
    "### Average Price Charge by Company and City\n",
    "pvt5 = pd.pivot_table(New_data, values=[\"Profit\"],index='Company',columns=\"City\",aggfunc=\"mean\")\n",
    "pvt5"
   ]
  },
  {
   "cell_type": "code",
   "execution_count": 45,
   "metadata": {},
   "outputs": [
    {
     "data": {
      "image/png": "[encoded data removed]",
      "text/plain": [
       "<Figure size 1440x504 with 1 Axes>"
      ]
     },
     "metadata": {},
     "output_type": "display_data"
    }
   ],
   "source": [
    "## Distribution\n",
    "plt.figure(figsize=(20,7))\n",
    "X= np.arange(19)\n",
    "plt.bar(X,pvt5.iloc[0,:].values,color=\"pink\",width=0.5,label=\"Pink Cab\")\n",
    "plt.bar(X+0.5,pvt5.iloc[1,:].values,color=\"yellow\",width=0.5,label=\"Yellow Cab\")\n",
    "plt.xlabel(\"City\",fontsize=11)\n",
    "plt.ylabel(\"Averge Value\",fontsize=11)\n",
    "plt.xticks(X+0.25,city,rotation=90)\n",
    "plt.title(\"Profit across City: Pink and Yellow Cab \",fontsize=14,fontstyle=\"italic\",fontweight=\"bold\")\n",
    "plt.show()"
   ]
  },
  {
   "cell_type": "markdown",
   "metadata": {},
   "source": [
    "#### 7) Hpothesis: There is no differnce in the Prpfit by two cab company across the Year \n"
   ]
  },
  {
   "cell_type": "code",
   "execution_count": 46,
   "metadata": {},
   "outputs": [
    {
     "data": {
      "text/html": [
       "<div>\n",
       "<style scoped>\n",
       "    .dataframe tbody tr th:only-of-type {\n",
       "        vertical-align: middle;\n",
       "    }\n",
       "\n",
       "    .dataframe tbody tr th {\n",
       "        vertical-align: top;\n",
       "    }\n",
       "\n",
       "    .dataframe thead tr th {\n",
       "        text-align: left;\n",
       "    }\n",
       "\n",
       "    .dataframe thead tr:last-of-type th {\n",
       "        text-align: right;\n",
       "    }\n",
       "</style>\n",
       "<table border=\"1\" class=\"dataframe\">\n",
       "  <thead>\n",
       "    <tr>\n",
       "      <th></th>\n",
       "      <th colspan=\"3\" halign=\"left\">Profit</th>\n",
       "    </tr>\n",
       "    <tr>\n",
       "      <th>Year</th>\n",
       "      <th>2016</th>\n",
       "      <th>2017</th>\n",
       "      <th>2018</th>\n",
       "    </tr>\n",
       "    <tr>\n",
       "      <th>Company</th>\n",
       "      <th></th>\n",
       "      <th></th>\n",
       "      <th></th>\n",
       "    </tr>\n",
       "  </thead>\n",
       "  <tbody>\n",
       "    <tr>\n",
       "      <th>Pink Cab</th>\n",
       "      <td>68.321819</td>\n",
       "      <td>67.070839</td>\n",
       "      <td>53.229689</td>\n",
       "    </tr>\n",
       "    <tr>\n",
       "      <th>Yellow Cab</th>\n",
       "      <td>169.347821</td>\n",
       "      <td>168.817057</td>\n",
       "      <td>143.416122</td>\n",
       "    </tr>\n",
       "  </tbody>\n",
       "</table>\n",
       "</div>"
      ],
      "text/plain": [
       "                Profit                        \n",
       "Year              2016        2017        2018\n",
       "Company                                       \n",
       "Pink Cab     68.321819   67.070839   53.229689\n",
       "Yellow Cab  169.347821  168.817057  143.416122"
      ]
     },
     "execution_count": 46,
     "metadata": {},
     "output_type": "execute_result"
    }
   ],
   "source": [
    "pvt6 = pd.pivot_table(New_data, values=[\"Profit\"],index='Company',columns=\"Year\",aggfunc=\"mean\")\n",
    "pvt6"
   ]
  },
  {
   "cell_type": "code",
   "execution_count": 47,
   "metadata": {},
   "outputs": [
    {
     "data": {
      "image/png": "[encoded data removed]",
      "text/plain": [
       "<Figure size 720x288 with 1 Axes>"
      ]
     },
     "metadata": {},
     "output_type": "display_data"
    }
   ],
   "source": [
    "## Distribution\n",
    "plt.figure(figsize=(10,4))\n",
    "X= np.arange(3)\n",
    "plt.bar(X,pvt6.iloc[0,:].values,color=\"pink\",width=0.3,label=\"Pink Cab\")\n",
    "plt.bar(X+0.3,pvt6.iloc[1,:].values,color=\"yellow\",width=0.3,label=\"Yellow Cab\")\n",
    "plt.xlabel(\"Year\",fontsize=11)\n",
    "plt.ylabel(\"Averge Value\",fontsize=11)\n",
    "plt.xticks(X+0.15,[\"2016\",\"2017\",\"2018\"],rotation=90)\n",
    "plt.title(\"Profit across Year: Pink and Yellow Cab \",fontname=\"Ubuntu\",fontsize=14,fontstyle=\"italic\",fontweight=\"bold\")\n",
    "plt.show()"
   ]
  },
  {
   "cell_type": "markdown",
   "metadata": {},
   "source": [
    "#### 8) Hpothesis: There is  a no  differnce in the Profit by two cab company across the Month"
   ]
  },
  {
   "cell_type": "code",
   "execution_count": 48,
   "metadata": {},
   "outputs": [
    {
     "data": {
      "text/html": [
       "<div>\n",
       "<style scoped>\n",
       "    .dataframe tbody tr th:only-of-type {\n",
       "        vertical-align: middle;\n",
       "    }\n",
       "\n",
       "    .dataframe tbody tr th {\n",
       "        vertical-align: top;\n",
       "    }\n",
       "\n",
       "    .dataframe thead tr th {\n",
       "        text-align: left;\n",
       "    }\n",
       "\n",
       "    .dataframe thead tr:last-of-type th {\n",
       "        text-align: right;\n",
       "    }\n",
       "</style>\n",
       "<table border=\"1\" class=\"dataframe\">\n",
       "  <thead>\n",
       "    <tr>\n",
       "      <th></th>\n",
       "      <th colspan=\"12\" halign=\"left\">Profit</th>\n",
       "    </tr>\n",
       "    <tr>\n",
       "      <th>Month</th>\n",
       "      <th>1</th>\n",
       "      <th>2</th>\n",
       "      <th>3</th>\n",
       "      <th>4</th>\n",
       "      <th>5</th>\n",
       "      <th>6</th>\n",
       "      <th>7</th>\n",
       "      <th>8</th>\n",
       "      <th>9</th>\n",
       "      <th>10</th>\n",
       "      <th>11</th>\n",
       "      <th>12</th>\n",
       "    </tr>\n",
       "    <tr>\n",
       "      <th>Company</th>\n",
       "      <th></th>\n",
       "      <th></th>\n",
       "      <th></th>\n",
       "      <th></th>\n",
       "      <th></th>\n",
       "      <th></th>\n",
       "      <th></th>\n",
       "      <th></th>\n",
       "      <th></th>\n",
       "      <th></th>\n",
       "      <th></th>\n",
       "      <th></th>\n",
       "    </tr>\n",
       "  </thead>\n",
       "  <tbody>\n",
       "    <tr>\n",
       "      <th>Pink Cab</th>\n",
       "      <td>76.736129</td>\n",
       "      <td>74.678906</td>\n",
       "      <td>70.825615</td>\n",
       "      <td>60.205265</td>\n",
       "      <td>33.994741</td>\n",
       "      <td>39.597623</td>\n",
       "      <td>45.809575</td>\n",
       "      <td>50.168148</td>\n",
       "      <td>51.194380</td>\n",
       "      <td>65.850706</td>\n",
       "      <td>73.632546</td>\n",
       "      <td>89.008786</td>\n",
       "    </tr>\n",
       "    <tr>\n",
       "      <th>Yellow Cab</th>\n",
       "      <td>185.374826</td>\n",
       "      <td>199.302085</td>\n",
       "      <td>180.865227</td>\n",
       "      <td>177.254502</td>\n",
       "      <td>212.557685</td>\n",
       "      <td>190.079552</td>\n",
       "      <td>135.709081</td>\n",
       "      <td>121.110536</td>\n",
       "      <td>152.287874</td>\n",
       "      <td>140.392116</td>\n",
       "      <td>145.427395</td>\n",
       "      <td>146.033211</td>\n",
       "    </tr>\n",
       "  </tbody>\n",
       "</table>\n",
       "</div>"
      ],
      "text/plain": [
       "                Profit                                                  \\\n",
       "Month               1           2           3           4           5    \n",
       "Company                                                                  \n",
       "Pink Cab     76.736129   74.678906   70.825615   60.205265   33.994741   \n",
       "Yellow Cab  185.374826  199.302085  180.865227  177.254502  212.557685   \n",
       "\n",
       "                                                                        \\\n",
       "Month               6           7           8           9           10   \n",
       "Company                                                                  \n",
       "Pink Cab     39.597623   45.809575   50.168148   51.194380   65.850706   \n",
       "Yellow Cab  190.079552  135.709081  121.110536  152.287874  140.392116   \n",
       "\n",
       "                                    \n",
       "Month               11          12  \n",
       "Company                             \n",
       "Pink Cab     73.632546   89.008786  \n",
       "Yellow Cab  145.427395  146.033211  "
      ]
     },
     "execution_count": 48,
     "metadata": {},
     "output_type": "execute_result"
    }
   ],
   "source": [
    "# Pivot Table- Avearge Price Charged acroos the year\n",
    "pvt7 = pd.pivot_table(New_data, values=[\"Profit\"],index='Company',columns=\"Month\",aggfunc=\"mean\")\n",
    "pvt7"
   ]
  },
  {
   "cell_type": "code",
   "execution_count": 49,
   "metadata": {},
   "outputs": [
    {
     "data": {
      "image/png": "[encoded data removed]",
      "text/plain": [
       "<Figure size 792x360 with 1 Axes>"
      ]
     },
     "metadata": {},
     "output_type": "display_data"
    }
   ],
   "source": [
    "## Distribution\n",
    "plt.figure(figsize=(11,5))\n",
    "X= np.arange(12)\n",
    "plt.bar(X,pvt7.iloc[0,:].values,color=\"pink\",width=0.3,label=\"Pink Cab\")\n",
    "plt.bar(X+0.3,pvt7.iloc[1,:].values,color=\"yellow\",width=0.3,label=\"Yellow Cab\")\n",
    "plt.xlabel(\"Year\",fontsize=11)\n",
    "plt.ylabel(\"Averge\",fontsize=11)\n",
    "plt.xticks(X+0.15,[\"January\",\"February\",\"March\",\"April\",\"May\",\"June\",\"July\",\"August\",\"September\",\"October\",\"November\",\"December\"],\\\n",
    "          rotation=90)\n",
    "plt.title(\"Profit across Month: Pink and Yellow Cab \",fontsize=14,fontstyle=\"italic\",fontweight=\"bold\")\n",
    "plt.show()"
   ]
  },
  {
   "cell_type": "markdown",
   "metadata": {},
   "source": [
    "The Yellow Cab has  a higher average profit across the Month when compared to the Pink Cab. This dynamics has not changed across Month"
   ]
  },
  {
   "cell_type": "markdown",
   "metadata": {},
   "source": [
    "###### Trend in the Profit"
   ]
  },
  {
   "cell_type": "code",
   "execution_count": 50,
   "metadata": {},
   "outputs": [
    {
     "data": {
      "text/html": [
       "<div>\n",
       "<style scoped>\n",
       "    .dataframe tbody tr th:only-of-type {\n",
       "        vertical-align: middle;\n",
       "    }\n",
       "\n",
       "    .dataframe tbody tr th {\n",
       "        vertical-align: top;\n",
       "    }\n",
       "\n",
       "    .dataframe thead tr th {\n",
       "        text-align: left;\n",
       "    }\n",
       "\n",
       "    .dataframe thead tr:last-of-type th {\n",
       "        text-align: right;\n",
       "    }\n",
       "</style>\n",
       "<table border=\"1\" class=\"dataframe\">\n",
       "  <thead>\n",
       "    <tr>\n",
       "      <th></th>\n",
       "      <th colspan=\"21\" halign=\"left\">Profit</th>\n",
       "    </tr>\n",
       "    <tr>\n",
       "      <th>Year</th>\n",
       "      <th colspan=\"10\" halign=\"left\">2016</th>\n",
       "      <th>...</th>\n",
       "      <th colspan=\"10\" halign=\"left\">2018</th>\n",
       "    </tr>\n",
       "    <tr>\n",
       "      <th>Month</th>\n",
       "      <th>1</th>\n",
       "      <th>2</th>\n",
       "      <th>3</th>\n",
       "      <th>4</th>\n",
       "      <th>5</th>\n",
       "      <th>6</th>\n",
       "      <th>7</th>\n",
       "      <th>8</th>\n",
       "      <th>9</th>\n",
       "      <th>10</th>\n",
       "      <th>...</th>\n",
       "      <th>3</th>\n",
       "      <th>4</th>\n",
       "      <th>5</th>\n",
       "      <th>6</th>\n",
       "      <th>7</th>\n",
       "      <th>8</th>\n",
       "      <th>9</th>\n",
       "      <th>10</th>\n",
       "      <th>11</th>\n",
       "      <th>12</th>\n",
       "    </tr>\n",
       "    <tr>\n",
       "      <th>Company</th>\n",
       "      <th></th>\n",
       "      <th></th>\n",
       "      <th></th>\n",
       "      <th></th>\n",
       "      <th></th>\n",
       "      <th></th>\n",
       "      <th></th>\n",
       "      <th></th>\n",
       "      <th></th>\n",
       "      <th></th>\n",
       "      <th></th>\n",
       "      <th></th>\n",
       "      <th></th>\n",
       "      <th></th>\n",
       "      <th></th>\n",
       "      <th></th>\n",
       "      <th></th>\n",
       "      <th></th>\n",
       "      <th></th>\n",
       "      <th></th>\n",
       "      <th></th>\n",
       "    </tr>\n",
       "  </thead>\n",
       "  <tbody>\n",
       "    <tr>\n",
       "      <th>Pink Cab</th>\n",
       "      <td>79.776551</td>\n",
       "      <td>83.310042</td>\n",
       "      <td>71.325088</td>\n",
       "      <td>66.606333</td>\n",
       "      <td>39.279488</td>\n",
       "      <td>41.100146</td>\n",
       "      <td>49.841288</td>\n",
       "      <td>57.910812</td>\n",
       "      <td>50.416756</td>\n",
       "      <td>72.020053</td>\n",
       "      <td>...</td>\n",
       "      <td>63.257279</td>\n",
       "      <td>52.53569</td>\n",
       "      <td>26.143758</td>\n",
       "      <td>29.220689</td>\n",
       "      <td>37.333323</td>\n",
       "      <td>42.115484</td>\n",
       "      <td>44.267811</td>\n",
       "      <td>55.893442</td>\n",
       "      <td>61.415892</td>\n",
       "      <td>75.159454</td>\n",
       "    </tr>\n",
       "    <tr>\n",
       "      <th>Yellow Cab</th>\n",
       "      <td>224.874458</td>\n",
       "      <td>215.911248</td>\n",
       "      <td>177.762298</td>\n",
       "      <td>176.517989</td>\n",
       "      <td>214.977948</td>\n",
       "      <td>220.732655</td>\n",
       "      <td>150.389628</td>\n",
       "      <td>122.885222</td>\n",
       "      <td>162.714973</td>\n",
       "      <td>141.616868</td>\n",
       "      <td>...</td>\n",
       "      <td>163.987571</td>\n",
       "      <td>161.67485</td>\n",
       "      <td>192.701105</td>\n",
       "      <td>171.436095</td>\n",
       "      <td>116.462715</td>\n",
       "      <td>107.815576</td>\n",
       "      <td>133.217173</td>\n",
       "      <td>130.950576</td>\n",
       "      <td>126.173938</td>\n",
       "      <td>133.170695</td>\n",
       "    </tr>\n",
       "  </tbody>\n",
       "</table>\n",
       "<p>2 rows × 36 columns</p>\n",
       "</div>"
      ],
      "text/plain": [
       "                Profit                                                  \\\n",
       "Year              2016                                                   \n",
       "Month               1           2           3           4           5    \n",
       "Company                                                                  \n",
       "Pink Cab     79.776551   83.310042   71.325088   66.606333   39.279488   \n",
       "Yellow Cab  224.874458  215.911248  177.762298  176.517989  214.977948   \n",
       "\n",
       "                                                                        ...  \\\n",
       "Year                                                                    ...   \n",
       "Month               6           7           8           9           10  ...   \n",
       "Company                                                                 ...   \n",
       "Pink Cab     41.100146   49.841288   57.910812   50.416756   72.020053  ...   \n",
       "Yellow Cab  220.732655  150.389628  122.885222  162.714973  141.616868  ...   \n",
       "\n",
       "                                                                       \\\n",
       "Year              2018                                                  \n",
       "Month               3          4           5           6           7    \n",
       "Company                                                                 \n",
       "Pink Cab     63.257279   52.53569   26.143758   29.220689   37.333323   \n",
       "Yellow Cab  163.987571  161.67485  192.701105  171.436095  116.462715   \n",
       "\n",
       "                                                                        \n",
       "Year                                                                    \n",
       "Month               8           9           10          11          12  \n",
       "Company                                                                 \n",
       "Pink Cab     42.115484   44.267811   55.893442   61.415892   75.159454  \n",
       "Yellow Cab  107.815576  133.217173  130.950576  126.173938  133.170695  \n",
       "\n",
       "[2 rows x 36 columns]"
      ]
     },
     "execution_count": 50,
     "metadata": {},
     "output_type": "execute_result"
    }
   ],
   "source": [
    "pvt8 = pd.pivot_table(New_data, values=[\"Profit\"],index='Company',columns=[\"Year\",\"Month\"],aggfunc=\"mean\")\n",
    "pvt8"
   ]
  },
  {
   "cell_type": "code",
   "execution_count": 51,
   "metadata": {},
   "outputs": [
    {
     "data": {
      "image/png": "[encoded data removed]",
      "text/plain": [
       "<Figure size 1080x360 with 1 Axes>"
      ]
     },
     "metadata": {},
     "output_type": "display_data"
    }
   ],
   "source": [
    "## Distribution\n",
    "#plt.style.use(\"classic\")\n",
    "plt.figure(figsize=(15,5))\n",
    "X= np.arange(36)\n",
    "pvt8.iloc[0,:].plot(color=\"pink\")\n",
    "pvt8.iloc[1,:].plot(color=\"yellow\")\n",
    "plt.xlabel(\"Year\",fontsize=11)\n",
    "plt.ylabel(\"Averge Value\",fontsize=11)\n",
    "plt.xticks(X,[\"2016: 1\",\"2016: 2\",\"2016: 3\",\"2016: 4\",\"2016: 5\",\"2016: 6\",\"2016: 7\",\"2016: 8\",\"2016: 9\",\"2016: 10\",\"2016: 11\",\"2016: 12\",\\\n",
    "           \"2017: 1\",\"2017: 2\",\"2017: 3\",\"2017: 4\",\"2017: 5\",\"2017: 6\",\"2017: 7\",\"2017: 8\",\"2017: 9\",\"2017: 10\",\"2017: 11\",\"20177: 12\",\\\n",
    "             \"2018: 1\",\"2018: 2\",\"2018: 3\",\"2018: 4\",\"2018: 5\",\"2018: 6\",\"2018: 7\",\"2018: 8\",\"2018: 9\",\"2018: 10\",\"2018: 11\",\"2018: 12\"],rotation=90)\n",
    "plt.title(\"Trend in the Profit: Pink and Yellow Cab \",fontname=\"Tahoma\",fontsize=12,fontstyle=\"italic\",fontweight=\"bold\")\n",
    "plt.show()"
   ]
  },
  {
   "cell_type": "markdown",
   "metadata": {},
   "source": [
    "### KM Travelled "
   ]
  },
  {
   "cell_type": "markdown",
   "metadata": {},
   "source": [
    "#### 9) Hpothesis: There is no difference in the KM travelled by two cab company"
   ]
  },
  {
   "cell_type": "code",
   "execution_count": 52,
   "metadata": {},
   "outputs": [
    {
     "data": {
      "image/png": "[encoded data removed]",
      "text/plain": [
       "<Figure size 504x288 with 1 Axes>"
      ]
     },
     "metadata": {},
     "output_type": "display_data"
    }
   ],
   "source": [
    "## Bar chart\n",
    "plt.figure(figsize=(7,4))\n",
    "plt.bar(company_group.mean().index,company_group.mean()[\"KM Travelled\"],color=[\"pink\",\"yellow\"])\n",
    "plt.xlabel(\"Company\",fontsize=11)\n",
    "plt.ylabel(\"Averge\",fontsize=11)\n",
    "plt.title(\"KiloMeters Travelled\",fontsize=14,fontstyle=\"italic\",fontweight=\"bold\")\n",
    "plt.show()"
   ]
  },
  {
   "cell_type": "markdown",
   "metadata": {},
   "source": [
    "There is no difference visually in the KM travelled between Yellow and Pink Cab"
   ]
  },
  {
   "cell_type": "markdown",
   "metadata": {},
   "source": [
    "#### 10) Hpothesis: There is no  difference in the KM Travelled by two cab company across the different City"
   ]
  },
  {
   "cell_type": "code",
   "execution_count": 53,
   "metadata": {},
   "outputs": [
    {
     "data": {
      "text/html": [
       "<div>\n",
       "<style scoped>\n",
       "    .dataframe tbody tr th:only-of-type {\n",
       "        vertical-align: middle;\n",
       "    }\n",
       "\n",
       "    .dataframe tbody tr th {\n",
       "        vertical-align: top;\n",
       "    }\n",
       "\n",
       "    .dataframe thead tr th {\n",
       "        text-align: left;\n",
       "    }\n",
       "\n",
       "    .dataframe thead tr:last-of-type th {\n",
       "        text-align: right;\n",
       "    }\n",
       "</style>\n",
       "<table border=\"1\" class=\"dataframe\">\n",
       "  <thead>\n",
       "    <tr>\n",
       "      <th></th>\n",
       "      <th colspan=\"19\" halign=\"left\">KM Travelled</th>\n",
       "    </tr>\n",
       "    <tr>\n",
       "      <th>City</th>\n",
       "      <th>ATLANTA GA</th>\n",
       "      <th>AUSTIN TX</th>\n",
       "      <th>BOSTON MA</th>\n",
       "      <th>CHICAGO IL</th>\n",
       "      <th>DALLAS TX</th>\n",
       "      <th>DENVER CO</th>\n",
       "      <th>LOS ANGELES CA</th>\n",
       "      <th>MIAMI FL</th>\n",
       "      <th>NASHVILLE TN</th>\n",
       "      <th>NEW YORK NY</th>\n",
       "      <th>ORANGE COUNTY</th>\n",
       "      <th>PHOENIX AZ</th>\n",
       "      <th>PITTSBURGH PA</th>\n",
       "      <th>SACRAMENTO CA</th>\n",
       "      <th>SAN DIEGO CA</th>\n",
       "      <th>SEATTLE WA</th>\n",
       "      <th>SILICON VALLEY</th>\n",
       "      <th>TUCSON AZ</th>\n",
       "      <th>WASHINGTON DC</th>\n",
       "    </tr>\n",
       "    <tr>\n",
       "      <th>Company</th>\n",
       "      <th></th>\n",
       "      <th></th>\n",
       "      <th></th>\n",
       "      <th></th>\n",
       "      <th></th>\n",
       "      <th></th>\n",
       "      <th></th>\n",
       "      <th></th>\n",
       "      <th></th>\n",
       "      <th></th>\n",
       "      <th></th>\n",
       "      <th></th>\n",
       "      <th></th>\n",
       "      <th></th>\n",
       "      <th></th>\n",
       "      <th></th>\n",
       "      <th></th>\n",
       "      <th></th>\n",
       "      <th></th>\n",
       "    </tr>\n",
       "  </thead>\n",
       "  <tbody>\n",
       "    <tr>\n",
       "      <th>Pink Cab</th>\n",
       "      <td>22.539824</td>\n",
       "      <td>21.969176</td>\n",
       "      <td>22.740746</td>\n",
       "      <td>22.511070</td>\n",
       "      <td>22.021203</td>\n",
       "      <td>22.459218</td>\n",
       "      <td>22.635629</td>\n",
       "      <td>22.299925</td>\n",
       "      <td>22.528066</td>\n",
       "      <td>22.622415</td>\n",
       "      <td>22.213153</td>\n",
       "      <td>21.747384</td>\n",
       "      <td>22.581613</td>\n",
       "      <td>22.604303</td>\n",
       "      <td>22.554710</td>\n",
       "      <td>22.694133</td>\n",
       "      <td>22.791838</td>\n",
       "      <td>22.556909</td>\n",
       "      <td>22.480756</td>\n",
       "    </tr>\n",
       "    <tr>\n",
       "      <th>Yellow Cab</th>\n",
       "      <td>22.248247</td>\n",
       "      <td>22.512840</td>\n",
       "      <td>22.543649</td>\n",
       "      <td>22.659493</td>\n",
       "      <td>22.599395</td>\n",
       "      <td>22.444097</td>\n",
       "      <td>22.688117</td>\n",
       "      <td>22.635606</td>\n",
       "      <td>22.968837</td>\n",
       "      <td>22.496362</td>\n",
       "      <td>22.364597</td>\n",
       "      <td>22.529450</td>\n",
       "      <td>22.670523</td>\n",
       "      <td>22.949719</td>\n",
       "      <td>22.391995</td>\n",
       "      <td>22.583783</td>\n",
       "      <td>22.696391</td>\n",
       "      <td>22.267527</td>\n",
       "      <td>22.625514</td>\n",
       "    </tr>\n",
       "  </tbody>\n",
       "</table>\n",
       "</div>"
      ],
      "text/plain": [
       "           KM Travelled                                              \\\n",
       "City         ATLANTA GA  AUSTIN TX  BOSTON MA CHICAGO IL  DALLAS TX   \n",
       "Company                                                               \n",
       "Pink Cab      22.539824  21.969176  22.740746  22.511070  22.021203   \n",
       "Yellow Cab    22.248247  22.512840  22.543649  22.659493  22.599395   \n",
       "\n",
       "                                                                          \\\n",
       "City        DENVER CO LOS ANGELES CA   MIAMI FL NASHVILLE TN NEW YORK NY   \n",
       "Company                                                                    \n",
       "Pink Cab    22.459218      22.635629  22.299925    22.528066   22.622415   \n",
       "Yellow Cab  22.444097      22.688117  22.635606    22.968837   22.496362   \n",
       "\n",
       "                                                                              \\\n",
       "City       ORANGE COUNTY PHOENIX AZ PITTSBURGH PA SACRAMENTO CA SAN DIEGO CA   \n",
       "Company                                                                        \n",
       "Pink Cab       22.213153  21.747384     22.581613     22.604303    22.554710   \n",
       "Yellow Cab     22.364597  22.529450     22.670523     22.949719    22.391995   \n",
       "\n",
       "                                                               \n",
       "City       SEATTLE WA SILICON VALLEY  TUCSON AZ WASHINGTON DC  \n",
       "Company                                                        \n",
       "Pink Cab    22.694133      22.791838  22.556909     22.480756  \n",
       "Yellow Cab  22.583783      22.696391  22.267527     22.625514  "
      ]
     },
     "execution_count": 53,
     "metadata": {},
     "output_type": "execute_result"
    }
   ],
   "source": [
    "pvt9 = pd.pivot_table(New_data, values=[\"KM Travelled\"],index='Company',columns=\"City\",aggfunc=\"mean\")\n",
    "pvt9"
   ]
  },
  {
   "cell_type": "code",
   "execution_count": 54,
   "metadata": {},
   "outputs": [
    {
     "data": {
      "image/png": "[encoded data removed]",
      "text/plain": [
       "<Figure size 1440x504 with 1 Axes>"
      ]
     },
     "metadata": {},
     "output_type": "display_data"
    }
   ],
   "source": [
    "## Distribution\n",
    "plt.figure(figsize=(20,7))\n",
    "X= np.arange(19)\n",
    "plt.bar(X,pvt9.iloc[0,:].values,color=\"pink\",width=0.5,label=\"Pink Cab\")\n",
    "plt.bar(X+0.5,pvt9.iloc[1,:].values,color=\"yellow\",width=0.5,label=\"Yellow Cab\")\n",
    "plt.xlabel(\"City\",fontsize=11)\n",
    "plt.ylabel(\"Averge\",fontsize=11)\n",
    "plt.xticks(X+0.25,city,rotation=90)\n",
    "plt.title(\"KM Travelled across City: Pink and Yellow Cab \",fontname=\"Ubuntu\",fontsize=14,fontstyle=\"italic\",fontweight=\"bold\")\n",
    "plt.show()"
   ]
  },
  {
   "cell_type": "markdown",
   "metadata": {},
   "source": [
    "Visually, There is no signifcnace difference  in the KM travelled across city between the Pink and Yellow Cab"
   ]
  },
  {
   "cell_type": "markdown",
   "metadata": {},
   "source": [
    "#### 11) Hpothesis: There is no differnce in the KM Travelled by two cab company across the Year"
   ]
  },
  {
   "cell_type": "code",
   "execution_count": 55,
   "metadata": {},
   "outputs": [
    {
     "data": {
      "text/html": [
       "<div>\n",
       "<style scoped>\n",
       "    .dataframe tbody tr th:only-of-type {\n",
       "        vertical-align: middle;\n",
       "    }\n",
       "\n",
       "    .dataframe tbody tr th {\n",
       "        vertical-align: top;\n",
       "    }\n",
       "\n",
       "    .dataframe thead tr th {\n",
       "        text-align: left;\n",
       "    }\n",
       "\n",
       "    .dataframe thead tr:last-of-type th {\n",
       "        text-align: right;\n",
       "    }\n",
       "</style>\n",
       "<table border=\"1\" class=\"dataframe\">\n",
       "  <thead>\n",
       "    <tr>\n",
       "      <th></th>\n",
       "      <th colspan=\"3\" halign=\"left\">KM Travelled</th>\n",
       "    </tr>\n",
       "    <tr>\n",
       "      <th>Year</th>\n",
       "      <th>2016</th>\n",
       "      <th>2017</th>\n",
       "      <th>2018</th>\n",
       "    </tr>\n",
       "    <tr>\n",
       "      <th>Company</th>\n",
       "      <th></th>\n",
       "      <th></th>\n",
       "      <th></th>\n",
       "    </tr>\n",
       "  </thead>\n",
       "  <tbody>\n",
       "    <tr>\n",
       "      <th>Pink Cab</th>\n",
       "      <td>22.468488</td>\n",
       "      <td>22.618763</td>\n",
       "      <td>22.577275</td>\n",
       "    </tr>\n",
       "    <tr>\n",
       "      <th>Yellow Cab</th>\n",
       "      <td>22.616742</td>\n",
       "      <td>22.557303</td>\n",
       "      <td>22.541036</td>\n",
       "    </tr>\n",
       "  </tbody>\n",
       "</table>\n",
       "</div>"
      ],
      "text/plain": [
       "           KM Travelled                      \n",
       "Year               2016       2017       2018\n",
       "Company                                      \n",
       "Pink Cab      22.468488  22.618763  22.577275\n",
       "Yellow Cab    22.616742  22.557303  22.541036"
      ]
     },
     "execution_count": 55,
     "metadata": {},
     "output_type": "execute_result"
    }
   ],
   "source": [
    "pvt10 = pd.pivot_table(New_data, values=[\"KM Travelled\"],index='Company',columns=\"Year\",aggfunc=\"mean\")\n",
    "pvt10"
   ]
  },
  {
   "cell_type": "code",
   "execution_count": 56,
   "metadata": {},
   "outputs": [
    {
     "data": {
      "image/png": "[encoded data removed]",
      "text/plain": [
       "<Figure size 720x288 with 1 Axes>"
      ]
     },
     "metadata": {},
     "output_type": "display_data"
    }
   ],
   "source": [
    "## Distribution\n",
    "plt.figure(figsize=(10,4))\n",
    "X= np.arange(3)\n",
    "plt.bar(X,pvt10.iloc[0,:].values,color=\"pink\",width=0.3,label=\"Pink Cab\")\n",
    "plt.bar(X+0.3,pvt10.iloc[1,:].values,color=\"yellow\",width=0.3,label=\"Yellow Cab\")\n",
    "plt.xlabel(\"Year\",fontsize=11)\n",
    "plt.ylabel(\"Averge\",fontsize=11)\n",
    "plt.xticks(X+0.15,[\"2016\",\"2017\",\"2018\"],rotation=90)\n",
    "plt.title(\"Profit across Year: Pink and Yellow Cab \",fontsize=14,fontstyle=\"italic\",fontweight=\"bold\")\n",
    "plt.show()"
   ]
  },
  {
   "cell_type": "markdown",
   "metadata": {},
   "source": [
    "There is no siginicance differnce visually in  profit between the Yellow and pink cab across the year"
   ]
  },
  {
   "cell_type": "markdown",
   "metadata": {},
   "source": [
    "#### 12) Hpothesis: There is  a no  differnce in the KM Travelled by two cab company across the Month"
   ]
  },
  {
   "cell_type": "code",
   "execution_count": 57,
   "metadata": {},
   "outputs": [
    {
     "data": {
      "text/html": [
       "<div>\n",
       "<style scoped>\n",
       "    .dataframe tbody tr th:only-of-type {\n",
       "        vertical-align: middle;\n",
       "    }\n",
       "\n",
       "    .dataframe tbody tr th {\n",
       "        vertical-align: top;\n",
       "    }\n",
       "\n",
       "    .dataframe thead tr th {\n",
       "        text-align: left;\n",
       "    }\n",
       "\n",
       "    .dataframe thead tr:last-of-type th {\n",
       "        text-align: right;\n",
       "    }\n",
       "</style>\n",
       "<table border=\"1\" class=\"dataframe\">\n",
       "  <thead>\n",
       "    <tr>\n",
       "      <th></th>\n",
       "      <th colspan=\"12\" halign=\"left\">KM Travelled</th>\n",
       "    </tr>\n",
       "    <tr>\n",
       "      <th>Month</th>\n",
       "      <th>1</th>\n",
       "      <th>2</th>\n",
       "      <th>3</th>\n",
       "      <th>4</th>\n",
       "      <th>5</th>\n",
       "      <th>6</th>\n",
       "      <th>7</th>\n",
       "      <th>8</th>\n",
       "      <th>9</th>\n",
       "      <th>10</th>\n",
       "      <th>11</th>\n",
       "      <th>12</th>\n",
       "    </tr>\n",
       "    <tr>\n",
       "      <th>Company</th>\n",
       "      <th></th>\n",
       "      <th></th>\n",
       "      <th></th>\n",
       "      <th></th>\n",
       "      <th></th>\n",
       "      <th></th>\n",
       "      <th></th>\n",
       "      <th></th>\n",
       "      <th></th>\n",
       "      <th></th>\n",
       "      <th></th>\n",
       "      <th></th>\n",
       "    </tr>\n",
       "  </thead>\n",
       "  <tbody>\n",
       "    <tr>\n",
       "      <th>Pink Cab</th>\n",
       "      <td>22.491693</td>\n",
       "      <td>22.580987</td>\n",
       "      <td>22.988615</td>\n",
       "      <td>22.503098</td>\n",
       "      <td>22.478395</td>\n",
       "      <td>22.728935</td>\n",
       "      <td>22.504636</td>\n",
       "      <td>22.508783</td>\n",
       "      <td>22.498595</td>\n",
       "      <td>22.496822</td>\n",
       "      <td>22.526004</td>\n",
       "      <td>22.603079</td>\n",
       "    </tr>\n",
       "    <tr>\n",
       "      <th>Yellow Cab</th>\n",
       "      <td>22.743680</td>\n",
       "      <td>22.514041</td>\n",
       "      <td>22.588583</td>\n",
       "      <td>22.582103</td>\n",
       "      <td>22.493946</td>\n",
       "      <td>22.551023</td>\n",
       "      <td>22.689308</td>\n",
       "      <td>22.557366</td>\n",
       "      <td>22.481982</td>\n",
       "      <td>22.520269</td>\n",
       "      <td>22.584162</td>\n",
       "      <td>22.571087</td>\n",
       "    </tr>\n",
       "  </tbody>\n",
       "</table>\n",
       "</div>"
      ],
      "text/plain": [
       "           KM Travelled                                              \\\n",
       "Month                1          2          3          4          5    \n",
       "Company                                                               \n",
       "Pink Cab      22.491693  22.580987  22.988615  22.503098  22.478395   \n",
       "Yellow Cab    22.743680  22.514041  22.588583  22.582103  22.493946   \n",
       "\n",
       "                                                                              \\\n",
       "Month              6          7          8          9          10         11   \n",
       "Company                                                                        \n",
       "Pink Cab    22.728935  22.504636  22.508783  22.498595  22.496822  22.526004   \n",
       "Yellow Cab  22.551023  22.689308  22.557366  22.481982  22.520269  22.584162   \n",
       "\n",
       "                       \n",
       "Month              12  \n",
       "Company                \n",
       "Pink Cab    22.603079  \n",
       "Yellow Cab  22.571087  "
      ]
     },
     "execution_count": 57,
     "metadata": {},
     "output_type": "execute_result"
    }
   ],
   "source": [
    "# Pivot Table- Avearge Price Charged acroos the year\n",
    "pvt11 = pd.pivot_table(New_data, values=[\"KM Travelled\"],index='Company',columns=\"Month\",aggfunc=\"mean\")\n",
    "pvt11"
   ]
  },
  {
   "cell_type": "code",
   "execution_count": 58,
   "metadata": {},
   "outputs": [
    {
     "data": {
      "image/png": "[encoded data removed]",
      "text/plain": [
       "<Figure size 864x360 with 1 Axes>"
      ]
     },
     "metadata": {},
     "output_type": "display_data"
    }
   ],
   "source": [
    "## Distribution\n",
    "plt.figure(figsize=(12,5))\n",
    "X= np.arange(12)\n",
    "plt.bar(X,pvt11.iloc[0,:].values,color=\"pink\",width=0.3,label=\"Pink Cab\")\n",
    "plt.bar(X+0.3,pvt11.iloc[1,:].values,color=\"yellow\",width=0.3,label=\"Yellow Cab\")\n",
    "plt.xlabel(\"Year\",fontsize=11)\n",
    "plt.ylabel(\"Averge\",fontsize=11)\n",
    "plt.xticks(X+0.15,[\"January\",\"February\",\"March\",\"April\",\"May\",\"June\",\"July\",\"August\",\"September\",\"October\",\"November\",\"December\"],\\\n",
    "          rotation=90)\n",
    "plt.title(\"KM Travelled across Month: Pink and Yellow Cab \",fontsize=14,fontstyle=\"italic\",fontweight=\"bold\")\n",
    "plt.show()"
   ]
  },
  {
   "cell_type": "markdown",
   "metadata": {},
   "source": [
    "There is no siginicance differnce visually in  profit between the Yellow and pink cab across the Month"
   ]
  },
  {
   "cell_type": "markdown",
   "metadata": {},
   "source": [
    "###### Trend in the KM Travelled"
   ]
  },
  {
   "cell_type": "code",
   "execution_count": 59,
   "metadata": {},
   "outputs": [
    {
     "data": {
      "text/html": [
       "<div>\n",
       "<style scoped>\n",
       "    .dataframe tbody tr th:only-of-type {\n",
       "        vertical-align: middle;\n",
       "    }\n",
       "\n",
       "    .dataframe tbody tr th {\n",
       "        vertical-align: top;\n",
       "    }\n",
       "\n",
       "    .dataframe thead tr th {\n",
       "        text-align: left;\n",
       "    }\n",
       "\n",
       "    .dataframe thead tr:last-of-type th {\n",
       "        text-align: right;\n",
       "    }\n",
       "</style>\n",
       "<table border=\"1\" class=\"dataframe\">\n",
       "  <thead>\n",
       "    <tr>\n",
       "      <th></th>\n",
       "      <th colspan=\"21\" halign=\"left\">KM Travelled</th>\n",
       "    </tr>\n",
       "    <tr>\n",
       "      <th>Year</th>\n",
       "      <th colspan=\"10\" halign=\"left\">2016</th>\n",
       "      <th>...</th>\n",
       "      <th colspan=\"10\" halign=\"left\">2018</th>\n",
       "    </tr>\n",
       "    <tr>\n",
       "      <th>Month</th>\n",
       "      <th>1</th>\n",
       "      <th>2</th>\n",
       "      <th>3</th>\n",
       "      <th>4</th>\n",
       "      <th>5</th>\n",
       "      <th>6</th>\n",
       "      <th>7</th>\n",
       "      <th>8</th>\n",
       "      <th>9</th>\n",
       "      <th>10</th>\n",
       "      <th>...</th>\n",
       "      <th>3</th>\n",
       "      <th>4</th>\n",
       "      <th>5</th>\n",
       "      <th>6</th>\n",
       "      <th>7</th>\n",
       "      <th>8</th>\n",
       "      <th>9</th>\n",
       "      <th>10</th>\n",
       "      <th>11</th>\n",
       "      <th>12</th>\n",
       "    </tr>\n",
       "    <tr>\n",
       "      <th>Company</th>\n",
       "      <th></th>\n",
       "      <th></th>\n",
       "      <th></th>\n",
       "      <th></th>\n",
       "      <th></th>\n",
       "      <th></th>\n",
       "      <th></th>\n",
       "      <th></th>\n",
       "      <th></th>\n",
       "      <th></th>\n",
       "      <th></th>\n",
       "      <th></th>\n",
       "      <th></th>\n",
       "      <th></th>\n",
       "      <th></th>\n",
       "      <th></th>\n",
       "      <th></th>\n",
       "      <th></th>\n",
       "      <th></th>\n",
       "      <th></th>\n",
       "      <th></th>\n",
       "    </tr>\n",
       "  </thead>\n",
       "  <tbody>\n",
       "    <tr>\n",
       "      <th>Pink Cab</th>\n",
       "      <td>22.674035</td>\n",
       "      <td>22.304610</td>\n",
       "      <td>22.659448</td>\n",
       "      <td>22.062403</td>\n",
       "      <td>22.423631</td>\n",
       "      <td>22.687538</td>\n",
       "      <td>22.809346</td>\n",
       "      <td>22.560370</td>\n",
       "      <td>22.227971</td>\n",
       "      <td>22.206341</td>\n",
       "      <td>...</td>\n",
       "      <td>23.048019</td>\n",
       "      <td>22.872824</td>\n",
       "      <td>22.679485</td>\n",
       "      <td>22.475019</td>\n",
       "      <td>22.490560</td>\n",
       "      <td>22.232703</td>\n",
       "      <td>22.583771</td>\n",
       "      <td>22.661936</td>\n",
       "      <td>22.670867</td>\n",
       "      <td>22.428245</td>\n",
       "    </tr>\n",
       "    <tr>\n",
       "      <th>Yellow Cab</th>\n",
       "      <td>22.749032</td>\n",
       "      <td>22.529382</td>\n",
       "      <td>22.831691</td>\n",
       "      <td>22.725065</td>\n",
       "      <td>22.396236</td>\n",
       "      <td>22.546813</td>\n",
       "      <td>22.737934</td>\n",
       "      <td>22.643325</td>\n",
       "      <td>22.546946</td>\n",
       "      <td>22.475180</td>\n",
       "      <td>...</td>\n",
       "      <td>22.468278</td>\n",
       "      <td>22.714124</td>\n",
       "      <td>22.658469</td>\n",
       "      <td>22.575006</td>\n",
       "      <td>22.696719</td>\n",
       "      <td>22.522802</td>\n",
       "      <td>22.282961</td>\n",
       "      <td>22.534065</td>\n",
       "      <td>22.526416</td>\n",
       "      <td>22.530559</td>\n",
       "    </tr>\n",
       "  </tbody>\n",
       "</table>\n",
       "<p>2 rows × 36 columns</p>\n",
       "</div>"
      ],
      "text/plain": [
       "           KM Travelled                                              \\\n",
       "Year               2016                                               \n",
       "Month                1          2          3          4          5    \n",
       "Company                                                               \n",
       "Pink Cab      22.674035  22.304610  22.659448  22.062403  22.423631   \n",
       "Yellow Cab    22.749032  22.529382  22.831691  22.725065  22.396236   \n",
       "\n",
       "                                                                   ...  \\\n",
       "Year                                                               ...   \n",
       "Month              6          7          8          9          10  ...   \n",
       "Company                                                            ...   \n",
       "Pink Cab    22.687538  22.809346  22.560370  22.227971  22.206341  ...   \n",
       "Yellow Cab  22.546813  22.737934  22.643325  22.546946  22.475180  ...   \n",
       "\n",
       "                                                                              \\\n",
       "Year             2018                                                          \n",
       "Month              3          4          5          6          7          8    \n",
       "Company                                                                        \n",
       "Pink Cab    23.048019  22.872824  22.679485  22.475019  22.490560  22.232703   \n",
       "Yellow Cab  22.468278  22.714124  22.658469  22.575006  22.696719  22.522802   \n",
       "\n",
       "                                                        \n",
       "Year                                                    \n",
       "Month              9          10         11         12  \n",
       "Company                                                 \n",
       "Pink Cab    22.583771  22.661936  22.670867  22.428245  \n",
       "Yellow Cab  22.282961  22.534065  22.526416  22.530559  \n",
       "\n",
       "[2 rows x 36 columns]"
      ]
     },
     "execution_count": 59,
     "metadata": {},
     "output_type": "execute_result"
    }
   ],
   "source": [
    "pvt12 = pd.pivot_table(New_data, values=[\"KM Travelled\"],index='Company',columns=[\"Year\",\"Month\"],aggfunc=\"mean\")\n",
    "pvt12"
   ]
  },
  {
   "cell_type": "code",
   "execution_count": 60,
   "metadata": {},
   "outputs": [
    {
     "data": {
      "image/png": "[encoded data removed]",
      "text/plain": [
       "<Figure size 1080x360 with 1 Axes>"
      ]
     },
     "metadata": {},
     "output_type": "display_data"
    }
   ],
   "source": [
    "## Distribution\n",
    "#plt.style.use(\"classic\")\n",
    "plt.figure(figsize=(15,5))\n",
    "X= np.arange(36)\n",
    "pvt12.iloc[0,:].plot(color=\"pink\")\n",
    "pvt12.iloc[1,:].plot(color=\"yellow\")\n",
    "plt.xlabel(\"Year\",fontsize=11)\n",
    "plt.ylabel(\"Averge Value\",fontsize=11)\n",
    "plt.xticks(X,[\"2016: 1\",\"2016: 2\",\"2016: 3\",\"2016: 4\",\"2016: 5\",\"2016: 6\",\"2016: 7\",\"2016: 8\",\"2016: 9\",\"2016: 10\",\"2016: 11\",\"2016: 12\",\\\n",
    "           \"2017: 1\",\"2017: 2\",\"2017: 3\",\"2017: 4\",\"2017: 5\",\"2017: 6\",\"2017: 7\",\"2017: 8\",\"2017: 9\",\"2017: 10\",\"2017: 11\",\"20177: 12\",\\\n",
    "             \"2018: 1\",\"2018: 2\",\"2018: 3\",\"2018: 4\",\"2018: 5\",\"2018: 6\",\"2018: 7\",\"2018: 8\",\"2018: 9\",\"2018: 10\",\"2018: 11\",\"2018: 12\"],rotation=90)\n",
    "plt.title(\"Trend in the KM Travelled: Pink and Yellow Cab \",fontname=\"Tahoma\",fontsize=12,fontstyle=\"italic\",fontweight=\"bold\")\n",
    "plt.show()"
   ]
  },
  {
   "cell_type": "markdown",
   "metadata": {},
   "source": [
    "I evaluated the performance of the the two cab company in their performance for KM Travelled, Price Charged and Profit Made. Overall Performance was Evaluated and the performance Across the City and Over the Year and Month was evaluated.\n",
    "\n",
    "- After Evaluting the  Average KM Travelled, there is no clear difference in the KM Travelled by both the Pink and Yellow Cab\n",
    "- The Yellow cab charged a more price per trip even in the same city where the same KM was Travveled by the Pink and Yellow Cab.\n",
    "\n",
    "- KM Travelled the same but the Yellow cab charged more price per trip compared to the pink cab\n",
    "\n",
    "- As a result, the Yellow cabs makes more profit than the Pink Cab\n",
    "|\n",
    "On the basis of above point , we will recommend Yellow cab for investment.\n"
   ]
  },
  {
   "cell_type": "code",
   "execution_count": null,
   "metadata": {},
   "outputs": [],
   "source": []
  }
 ],
 "metadata": {
  "kernelspec": {
   "display_name": "Python 3",
   "language": "python",
   "name": "python3"
  },
  "language_info": {
   "codemirror_mode": {
    "name": "ipython",
    "version": 3
   },
   "file_extension": ".py",
   "mimetype": "text/x-python",
   "name": "python",
   "nbconvert_exporter": "python",
   "pygments_lexer": "ipython3",
   "version": "3.8.3"
  }
 },
 "nbformat": 4,
 "nbformat_minor": 4
}
